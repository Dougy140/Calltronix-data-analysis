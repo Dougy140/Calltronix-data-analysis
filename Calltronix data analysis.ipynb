{
 "cells": [
  {
   "cell_type": "markdown",
   "id": "5b0455a1",
   "metadata": {},
   "source": [
    "# CALLTRONIX DATA ANALYSIS AND VISUALIZATION"
   ]
  },
  {
   "cell_type": "markdown",
   "id": "712f1b9c",
   "metadata": {},
   "source": [
    "In this notebook we will analyze calls made across different departments."
   ]
  },
  {
   "cell_type": "markdown",
   "id": "b3b959c6",
   "metadata": {},
   "source": [
    "We will create new columns to help us to uncover further insights from the data and answer interesting questions."
   ]
  },
  {
   "cell_type": "markdown",
   "id": "065b778f",
   "metadata": {},
   "source": [
    "## Importing libraries"
   ]
  },
  {
   "cell_type": "code",
   "execution_count": 5,
   "id": "6e0aa731",
   "metadata": {},
   "outputs": [],
   "source": [
    "import pandas as pd\n",
    "import seaborn as sns\n",
    "import matplotlib.pyplot as plt\n",
    "\n",
    "%matplotlib inline"
   ]
  },
  {
   "cell_type": "markdown",
   "id": "c00ebb89",
   "metadata": {},
   "source": [
    "## Loading dataset"
   ]
  },
  {
   "cell_type": "code",
   "execution_count": 6,
   "id": "eb4ec1f7",
   "metadata": {},
   "outputs": [],
   "source": [
    "df = pd.read_csv('raw_data.csv')"
   ]
  },
  {
   "cell_type": "code",
   "execution_count": 7,
   "id": "09639842",
   "metadata": {
    "scrolled": true
   },
   "outputs": [
    {
     "data": {
      "text/html": [
       "<div>\n",
       "<style scoped>\n",
       "    .dataframe tbody tr th:only-of-type {\n",
       "        vertical-align: middle;\n",
       "    }\n",
       "\n",
       "    .dataframe tbody tr th {\n",
       "        vertical-align: top;\n",
       "    }\n",
       "\n",
       "    .dataframe thead th {\n",
       "        text-align: right;\n",
       "    }\n",
       "</style>\n",
       "<table border=\"1\" class=\"dataframe\">\n",
       "  <thead>\n",
       "    <tr style=\"text-align: right;\">\n",
       "      <th></th>\n",
       "      <th>Issue Source</th>\n",
       "      <th>Issue Category</th>\n",
       "      <th>Disposition</th>\n",
       "      <th>Department</th>\n",
       "      <th>Date</th>\n",
       "      <th>Ticket Status</th>\n",
       "      <th>Unnamed: 6</th>\n",
       "      <th>Unnamed: 7</th>\n",
       "      <th>Unnamed: 8</th>\n",
       "      <th>Unnamed: 9</th>\n",
       "      <th>Unnamed: 10</th>\n",
       "      <th>Unnamed: 11</th>\n",
       "      <th>Unnamed: 12</th>\n",
       "    </tr>\n",
       "  </thead>\n",
       "  <tbody>\n",
       "    <tr>\n",
       "      <th>0</th>\n",
       "      <td>VO</td>\n",
       "      <td>Non-Contact</td>\n",
       "      <td>Number Busy</td>\n",
       "      <td>NaN</td>\n",
       "      <td>1 May 2022</td>\n",
       "      <td>Open</td>\n",
       "      <td>NaN</td>\n",
       "      <td>NaN</td>\n",
       "      <td>NaN</td>\n",
       "      <td>NaN</td>\n",
       "      <td>NaN</td>\n",
       "      <td>NaN</td>\n",
       "      <td>NaN</td>\n",
       "    </tr>\n",
       "  </tbody>\n",
       "</table>\n",
       "</div>"
      ],
      "text/plain": [
       "  Issue Source Issue Category  Disposition Department       Date   \\\n",
       "0           VO    Non-Contact  Number Busy        NaN  1 May 2022   \n",
       "\n",
       "  Ticket Status  Unnamed: 6  Unnamed: 7  Unnamed: 8  Unnamed: 9  Unnamed: 10  \\\n",
       "0          Open         NaN         NaN         NaN         NaN          NaN   \n",
       "\n",
       "   Unnamed: 11  Unnamed: 12  \n",
       "0          NaN          NaN  "
      ]
     },
     "execution_count": 7,
     "metadata": {},
     "output_type": "execute_result"
    }
   ],
   "source": [
    "df.head(1)"
   ]
  },
  {
   "cell_type": "markdown",
   "id": "0a783e20",
   "metadata": {},
   "source": [
    "Reomove the extra colunmns with no inputs to our analysis"
   ]
  },
  {
   "cell_type": "code",
   "execution_count": 10,
   "id": "6ea33cd9",
   "metadata": {
    "scrolled": true
   },
   "outputs": [],
   "source": [
    "df = df.drop(columns=['Unnamed: 6', 'Unnamed: 7', 'Unnamed: 8', 'Unnamed: 9',\n",
    "       'Unnamed: 10', 'Unnamed: 11', 'Unnamed: 12'])"
   ]
  },
  {
   "cell_type": "code",
   "execution_count": 11,
   "id": "6f8e89dc",
   "metadata": {
    "scrolled": true
   },
   "outputs": [
    {
     "data": {
      "text/html": [
       "<div>\n",
       "<style scoped>\n",
       "    .dataframe tbody tr th:only-of-type {\n",
       "        vertical-align: middle;\n",
       "    }\n",
       "\n",
       "    .dataframe tbody tr th {\n",
       "        vertical-align: top;\n",
       "    }\n",
       "\n",
       "    .dataframe thead th {\n",
       "        text-align: right;\n",
       "    }\n",
       "</style>\n",
       "<table border=\"1\" class=\"dataframe\">\n",
       "  <thead>\n",
       "    <tr style=\"text-align: right;\">\n",
       "      <th></th>\n",
       "      <th>Issue Source</th>\n",
       "      <th>Issue Category</th>\n",
       "      <th>Disposition</th>\n",
       "      <th>Department</th>\n",
       "      <th>Date</th>\n",
       "      <th>Ticket Status</th>\n",
       "    </tr>\n",
       "  </thead>\n",
       "  <tbody>\n",
       "    <tr>\n",
       "      <th>0</th>\n",
       "      <td>VO</td>\n",
       "      <td>Non-Contact</td>\n",
       "      <td>Number Busy</td>\n",
       "      <td>NaN</td>\n",
       "      <td>1 May 2022</td>\n",
       "      <td>Open</td>\n",
       "    </tr>\n",
       "    <tr>\n",
       "      <th>1</th>\n",
       "      <td>VO</td>\n",
       "      <td>Inquiry</td>\n",
       "      <td>Prescription</td>\n",
       "      <td>Pharm</td>\n",
       "      <td>1 May 2022</td>\n",
       "      <td>Open</td>\n",
       "    </tr>\n",
       "  </tbody>\n",
       "</table>\n",
       "</div>"
      ],
      "text/plain": [
       "  Issue Source Issue Category   Disposition Department       Date   \\\n",
       "0           VO    Non-Contact   Number Busy        NaN  1 May 2022   \n",
       "1           VO        Inquiry  Prescription      Pharm  1 May 2022   \n",
       "\n",
       "  Ticket Status  \n",
       "0          Open  \n",
       "1          Open  "
      ]
     },
     "execution_count": 11,
     "metadata": {},
     "output_type": "execute_result"
    }
   ],
   "source": [
    "df.head(2)"
   ]
  },
  {
   "cell_type": "code",
   "execution_count": 12,
   "id": "90469371",
   "metadata": {},
   "outputs": [
    {
     "data": {
      "text/html": [
       "<div>\n",
       "<style scoped>\n",
       "    .dataframe tbody tr th:only-of-type {\n",
       "        vertical-align: middle;\n",
       "    }\n",
       "\n",
       "    .dataframe tbody tr th {\n",
       "        vertical-align: top;\n",
       "    }\n",
       "\n",
       "    .dataframe thead th {\n",
       "        text-align: right;\n",
       "    }\n",
       "</style>\n",
       "<table border=\"1\" class=\"dataframe\">\n",
       "  <thead>\n",
       "    <tr style=\"text-align: right;\">\n",
       "      <th></th>\n",
       "      <th>Issue Source</th>\n",
       "      <th>Issue Category</th>\n",
       "      <th>Disposition</th>\n",
       "      <th>Department</th>\n",
       "      <th>Date</th>\n",
       "      <th>Ticket Status</th>\n",
       "    </tr>\n",
       "  </thead>\n",
       "  <tbody>\n",
       "    <tr>\n",
       "      <th>13512</th>\n",
       "      <td>NaN</td>\n",
       "      <td>NaN</td>\n",
       "      <td>NaN</td>\n",
       "      <td>NaN</td>\n",
       "      <td>NaN</td>\n",
       "      <td>NaN</td>\n",
       "    </tr>\n",
       "    <tr>\n",
       "      <th>13513</th>\n",
       "      <td>NaN</td>\n",
       "      <td>NaN</td>\n",
       "      <td>NaN</td>\n",
       "      <td>NaN</td>\n",
       "      <td>NaN</td>\n",
       "      <td>NaN</td>\n",
       "    </tr>\n",
       "    <tr>\n",
       "      <th>13514</th>\n",
       "      <td>NaN</td>\n",
       "      <td>NaN</td>\n",
       "      <td>NaN</td>\n",
       "      <td>NaN</td>\n",
       "      <td>NaN</td>\n",
       "      <td>NaN</td>\n",
       "    </tr>\n",
       "  </tbody>\n",
       "</table>\n",
       "</div>"
      ],
      "text/plain": [
       "      Issue Source Issue Category Disposition Department Date  Ticket Status\n",
       "13512          NaN            NaN         NaN        NaN   NaN           NaN\n",
       "13513          NaN            NaN         NaN        NaN   NaN           NaN\n",
       "13514          NaN            NaN         NaN        NaN   NaN           NaN"
      ]
     },
     "execution_count": 12,
     "metadata": {},
     "output_type": "execute_result"
    }
   ],
   "source": [
    "df.tail(3)"
   ]
  },
  {
   "cell_type": "markdown",
   "id": "3581a6c9",
   "metadata": {},
   "source": [
    "Drop the extra rows in the dataset with no inputs"
   ]
  },
  {
   "cell_type": "code",
   "execution_count": 13,
   "id": "9a512f7d",
   "metadata": {},
   "outputs": [],
   "source": [
    "df =  df.drop(df.index[13474:])"
   ]
  },
  {
   "cell_type": "code",
   "execution_count": 14,
   "id": "7461bb72",
   "metadata": {},
   "outputs": [
    {
     "data": {
      "text/html": [
       "<div>\n",
       "<style scoped>\n",
       "    .dataframe tbody tr th:only-of-type {\n",
       "        vertical-align: middle;\n",
       "    }\n",
       "\n",
       "    .dataframe tbody tr th {\n",
       "        vertical-align: top;\n",
       "    }\n",
       "\n",
       "    .dataframe thead th {\n",
       "        text-align: right;\n",
       "    }\n",
       "</style>\n",
       "<table border=\"1\" class=\"dataframe\">\n",
       "  <thead>\n",
       "    <tr style=\"text-align: right;\">\n",
       "      <th></th>\n",
       "      <th>Issue Source</th>\n",
       "      <th>Issue Category</th>\n",
       "      <th>Disposition</th>\n",
       "      <th>Department</th>\n",
       "      <th>Date</th>\n",
       "      <th>Ticket Status</th>\n",
       "    </tr>\n",
       "  </thead>\n",
       "  <tbody>\n",
       "    <tr>\n",
       "      <th>13469</th>\n",
       "      <td>VB</td>\n",
       "      <td>Inquiry</td>\n",
       "      <td>Tests</td>\n",
       "      <td>LAB</td>\n",
       "      <td>17 May 2022</td>\n",
       "      <td>Open</td>\n",
       "    </tr>\n",
       "    <tr>\n",
       "      <th>13470</th>\n",
       "      <td>VO</td>\n",
       "      <td>Follow-up</td>\n",
       "      <td>Tests</td>\n",
       "      <td>LAB</td>\n",
       "      <td>17 May 2022</td>\n",
       "      <td>Open</td>\n",
       "    </tr>\n",
       "    <tr>\n",
       "      <th>13471</th>\n",
       "      <td>VB</td>\n",
       "      <td>Request</td>\n",
       "      <td>Tests</td>\n",
       "      <td>LAB</td>\n",
       "      <td>17 May 2022</td>\n",
       "      <td>Open</td>\n",
       "    </tr>\n",
       "    <tr>\n",
       "      <th>13472</th>\n",
       "      <td>VO</td>\n",
       "      <td>Follow-up</td>\n",
       "      <td>Tests</td>\n",
       "      <td>LAB</td>\n",
       "      <td>17 May 2022</td>\n",
       "      <td>Open</td>\n",
       "    </tr>\n",
       "    <tr>\n",
       "      <th>13473</th>\n",
       "      <td>VB</td>\n",
       "      <td>Inquiry</td>\n",
       "      <td>Availability of doctors</td>\n",
       "      <td>DOM</td>\n",
       "      <td>17 May 2022</td>\n",
       "      <td>Open</td>\n",
       "    </tr>\n",
       "  </tbody>\n",
       "</table>\n",
       "</div>"
      ],
      "text/plain": [
       "      Issue Source Issue Category              Disposition Department  \\\n",
       "13469           VB        Inquiry                    Tests        LAB   \n",
       "13470           VO      Follow-up                    Tests        LAB   \n",
       "13471           VB        Request                    Tests        LAB   \n",
       "13472           VO      Follow-up                    Tests        LAB   \n",
       "13473           VB        Inquiry  Availability of doctors        DOM   \n",
       "\n",
       "             Date  Ticket Status  \n",
       "13469  17 May 2022          Open  \n",
       "13470  17 May 2022          Open  \n",
       "13471  17 May 2022          Open  \n",
       "13472  17 May 2022          Open  \n",
       "13473  17 May 2022          Open  "
      ]
     },
     "execution_count": 14,
     "metadata": {},
     "output_type": "execute_result"
    }
   ],
   "source": [
    "df.tail(5)"
   ]
  },
  {
   "cell_type": "markdown",
   "id": "f7aded02",
   "metadata": {},
   "source": [
    "**The dataset contains categorical variables and one date column so bar plots will be the most efficient to use in our analysis**"
   ]
  },
  {
   "cell_type": "code",
   "execution_count": 651,
   "id": "f08ac941",
   "metadata": {
    "scrolled": false
   },
   "outputs": [
    {
     "data": {
      "text/plain": [
       "(13474, 6)"
      ]
     },
     "execution_count": 651,
     "metadata": {},
     "output_type": "execute_result"
    }
   ],
   "source": [
    "df.shape"
   ]
  },
  {
   "cell_type": "markdown",
   "id": "0db48585",
   "metadata": {},
   "source": [
    "Ther Dataset has 137474 rows and 6 columns"
   ]
  },
  {
   "cell_type": "markdown",
   "id": "f0aebb52",
   "metadata": {},
   "source": [
    "Data information"
   ]
  },
  {
   "cell_type": "code",
   "execution_count": 652,
   "id": "f9b16e4a",
   "metadata": {
    "scrolled": false
   },
   "outputs": [
    {
     "name": "stdout",
     "output_type": "stream",
     "text": [
      "<class 'pandas.core.frame.DataFrame'>\n",
      "Int64Index: 13474 entries, 0 to 13473\n",
      "Data columns (total 6 columns):\n",
      " #   Column          Non-Null Count  Dtype \n",
      "---  ------          --------------  ----- \n",
      " 0   Issue Source    13474 non-null  object\n",
      " 1   Issue Category  13474 non-null  object\n",
      " 2   Disposition     13474 non-null  object\n",
      " 3   Department      11159 non-null  object\n",
      " 4   Date            13474 non-null  object\n",
      " 5   Ticket Status   13473 non-null  object\n",
      "dtypes: object(6)\n",
      "memory usage: 736.9+ KB\n"
     ]
    }
   ],
   "source": [
    "df.info()"
   ]
  },
  {
   "cell_type": "markdown",
   "id": "23f35ce8",
   "metadata": {},
   "source": [
    "Checking for missing values"
   ]
  },
  {
   "cell_type": "code",
   "execution_count": 653,
   "id": "161ef249",
   "metadata": {
    "scrolled": false
   },
   "outputs": [
    {
     "data": {
      "text/plain": [
       "Issue Source         0\n",
       "Issue Category       0\n",
       "Disposition          0\n",
       "Department        2315\n",
       "Date                 0\n",
       "Ticket Status        1\n",
       "dtype: int64"
      ]
     },
     "execution_count": 653,
     "metadata": {},
     "output_type": "execute_result"
    }
   ],
   "source": [
    "df.isnull().sum()"
   ]
  },
  {
   "cell_type": "markdown",
   "id": "061b4a56",
   "metadata": {},
   "source": [
    "Checking the count of unique input names in the columns"
   ]
  },
  {
   "cell_type": "code",
   "execution_count": 654,
   "id": "cbd767a0",
   "metadata": {},
   "outputs": [
    {
     "data": {
      "text/plain": [
       "Issue Source       4\n",
       "Issue Category     6\n",
       "Disposition       45\n",
       "Department        23\n",
       "Date              17\n",
       "Ticket Status      4\n",
       "dtype: int64"
      ]
     },
     "execution_count": 654,
     "metadata": {},
     "output_type": "execute_result"
    }
   ],
   "source": [
    "df.nunique()"
   ]
  },
  {
   "cell_type": "markdown",
   "id": "699eb744",
   "metadata": {},
   "source": [
    "**visualize missing values**"
   ]
  },
  {
   "cell_type": "code",
   "execution_count": 655,
   "id": "2f4fd183",
   "metadata": {
    "scrolled": true
   },
   "outputs": [
    {
     "data": {
      "image/png": "[encoded data removed]",
      "text/plain": [
       "<Figure size 432x288 with 1 Axes>"
      ]
     },
     "metadata": {
      "needs_background": "light"
     },
     "output_type": "display_data"
    }
   ],
   "source": [
    "sns.heatmap(df.isnull(),yticklabels=False,cbar=False,cmap='viridis')\n",
    "plt.title('missing values heatmap');"
   ]
  },
  {
   "cell_type": "markdown",
   "id": "86109a1e",
   "metadata": {},
   "source": [
    "lets create a copy of the data with missing values. \n",
    "Maybe we can discover some insights from it before we drop them since most of the missing values\n",
    "are in the Departmental area."
   ]
  },
  {
   "cell_type": "markdown",
   "id": "8fc3edcf",
   "metadata": {},
   "source": [
    "### creating new columns\n",
    "\n",
    "### Generating dates for the calls\n"
   ]
  },
  {
   "cell_type": "code",
   "execution_count": 656,
   "id": "aba756ff",
   "metadata": {},
   "outputs": [],
   "source": [
    "df['day_of_the_week'] = pd.to_datetime(df['Date ']).dt.day_name()\n",
    "df['day_of_the_month'] = pd.to_datetime(df['Date ']).dt.date"
   ]
  },
  {
   "cell_type": "markdown",
   "id": "e27dc3b3",
   "metadata": {},
   "source": [
    "# lets analyze the calls"
   ]
  },
  {
   "cell_type": "markdown",
   "id": "5634b391",
   "metadata": {},
   "source": [
    "**first we create a copy which will contain the missing values in the department**"
   ]
  },
  {
   "cell_type": "code",
   "execution_count": 657,
   "id": "0f20173f",
   "metadata": {},
   "outputs": [],
   "source": [
    "df_missing = df.copy()"
   ]
  },
  {
   "cell_type": "markdown",
   "id": "443e90ee",
   "metadata": {},
   "source": [
    "## Total calls made"
   ]
  },
  {
   "cell_type": "code",
   "execution_count": 658,
   "id": "ed7ba102",
   "metadata": {},
   "outputs": [
    {
     "name": "stdout",
     "output_type": "stream",
     "text": [
      "Total calls made were: 13474\n"
     ]
    }
   ],
   "source": [
    "total = df_missing['Disposition'].value_counts().sum()\n",
    "print('Total calls made were:', total)"
   ]
  },
  {
   "cell_type": "markdown",
   "id": "655b3a9b",
   "metadata": {},
   "source": [
    "## lets get a count of each call made"
   ]
  },
  {
   "cell_type": "code",
   "execution_count": 659,
   "id": "b255c2a1",
   "metadata": {
    "scrolled": true
   },
   "outputs": [
    {
     "data": {
      "text/plain": [
       "Availability of doctors         3017\n",
       "Appointment Clarification       2379\n",
       "No Answer                       1487\n",
       "Appointment Booking             1362\n",
       "Tests                            534\n",
       "Disconnected                     455\n",
       "Vaccination Availability         424\n",
       "Service Available                380\n",
       "Lab Results                      376\n",
       "Walk-in                          373\n",
       "Medical report                   300\n",
       "availability of drugs            241\n",
       "Operating Hours                  214\n",
       "Housekeeping                     211\n",
       "Number Busy                      181\n",
       "Pricing                          178\n",
       "Silent Call                      170\n",
       "Admission                        149\n",
       "Appointment Re-schedule          140\n",
       "Purchasing and Supplies          120\n",
       "Corporate Approval               115\n",
       "Appointment cancellation          85\n",
       "Patient Transfer                  62\n",
       "Visiting Hours                    60\n",
       "Prescription                      59\n",
       "Security                          58\n",
       "Referral                          53\n",
       "Running Late for Appointment      52\n",
       "Billing                           34\n",
       "Recruitment                       32\n",
       "Wrong Number                      28\n",
       "Discharge                         25\n",
       "Availability of beds              20\n",
       "Engineering                       16\n",
       "Number No longer in service       14\n",
       "Employee Welfare                  14\n",
       "Phone Off                         14\n",
       "Campaigns                         11\n",
       "Refund on Overcharge               9\n",
       "Ultra-Sound                        7\n",
       "Phone Busy                         5\n",
       "Internship                         4\n",
       "Call Transfer                      3\n",
       "Answering Machine                  2\n",
       "X-Ray Services                     1\n",
       "Name: Disposition, dtype: int64"
      ]
     },
     "execution_count": 659,
     "metadata": {},
     "output_type": "execute_result"
    }
   ],
   "source": [
    "df_missing['Disposition'].value_counts()"
   ]
  },
  {
   "cell_type": "markdown",
   "id": "ce7878c6",
   "metadata": {},
   "source": [
    "**Visualizing the count**"
   ]
  },
  {
   "cell_type": "code",
   "execution_count": 670,
   "id": "5089e782",
   "metadata": {},
   "outputs": [
    {
     "data": {
      "image/png": "[encoded data removed]",
      "text/plain": [
       "<Figure size 864x504 with 1 Axes>"
      ]
     },
     "metadata": {
      "needs_background": "light"
     },
     "output_type": "display_data"
    }
   ],
   "source": [
    "plt.figure(figsize=(12,7))\n",
    "plt.title('Dispositions')\n",
    "df_missing['Disposition'].value_counts().plot(kind='bar')\n",
    "plt.ylabel('Count');"
   ]
  },
  {
   "cell_type": "markdown",
   "id": "f861fcff",
   "metadata": {},
   "source": [
    " **From the above observation we can see that:**\n",
    " \n",
    " Most calls were made seeking availability of doctors.\n",
    " \n",
    " And it seems also alot of calls received no answer **!!!**\n",
    " \n",
    " only one call was made for X_ray Services \n",
    " \n",
    " "
   ]
  },
  {
   "cell_type": "markdown",
   "id": "d2312940",
   "metadata": {},
   "source": [
    "**I'm really interested in the calls that received no answer**\n",
    "\n",
    "lets mask them out and see\n",
    "\n",
    "**Why they had no answer**"
   ]
  },
  {
   "cell_type": "code",
   "execution_count": 661,
   "id": "85381f12",
   "metadata": {
    "scrolled": true
   },
   "outputs": [],
   "source": [
    "df_no_answer = df_missing[df_missing['Disposition'] == 'No Answer']"
   ]
  },
  {
   "cell_type": "code",
   "execution_count": 662,
   "id": "a8072702",
   "metadata": {
    "scrolled": true
   },
   "outputs": [
    {
     "name": "stdout",
     "output_type": "stream",
     "text": [
      "Total Calls that received no answer were:  1487\n"
     ]
    }
   ],
   "source": [
    "print(\"Total Calls that received no answer were: \", df_no_answer.shape[0])"
   ]
  },
  {
   "cell_type": "code",
   "execution_count": 663,
   "id": "6b1212a0",
   "metadata": {},
   "outputs": [
    {
     "data": {
      "text/plain": [
       "Issue Source         2\n",
       "Issue Category       1\n",
       "Disposition          1\n",
       "Department           9\n",
       "Date                17\n",
       "Ticket Status        4\n",
       "day_of_the_week      7\n",
       "day_of_the_month    17\n",
       "dtype: int64"
      ]
     },
     "execution_count": 663,
     "metadata": {},
     "output_type": "execute_result"
    }
   ],
   "source": [
    "df_no_answer.nunique()"
   ]
  },
  {
   "cell_type": "markdown",
   "id": "03cc8598",
   "metadata": {},
   "source": [
    "### Day of the week on which the calls that received no answer were made"
   ]
  },
  {
   "cell_type": "code",
   "execution_count": 671,
   "id": "a68f36cb",
   "metadata": {
    "scrolled": true
   },
   "outputs": [
    {
     "data": {
      "image/png": "[encoded data removed]",
      "text/plain": [
       "<Figure size 432x288 with 1 Axes>"
      ]
     },
     "metadata": {
      "needs_background": "light"
     },
     "output_type": "display_data"
    }
   ],
   "source": [
    "df_no_answer['day_of_the_week'].value_counts().plot(kind='bar')\n",
    "plt.title('calls made within the weekdays')\n",
    "plt.ylabel('count');"
   ]
  },
  {
   "cell_type": "markdown",
   "id": "3be5d1ab",
   "metadata": {},
   "source": [
    "**Most calls that received no answer were made on tuesday and were least on saturday and sunday** "
   ]
  },
  {
   "cell_type": "markdown",
   "id": "881bb314",
   "metadata": {},
   "source": [
    "Dates in which no_answer calls were made"
   ]
  },
  {
   "cell_type": "code",
   "execution_count": 666,
   "id": "07b5e01a",
   "metadata": {},
   "outputs": [
    {
     "data": {
      "image/png": "[encoded data removed]",
      "text/plain": [
       "<Figure size 720x576 with 1 Axes>"
      ]
     },
     "metadata": {
      "needs_background": "light"
     },
     "output_type": "display_data"
    }
   ],
   "source": [
    "plt.figure(figsize=(10,8))\n",
    "sns.countplot(x='day_of_the_month', data =df_no_answer)\n",
    "plt.title('CAlls which received no answer by date')\n",
    "plt.xticks(rotation=90);"
   ]
  },
  {
   "cell_type": "code",
   "execution_count": 672,
   "id": "d9096dd8",
   "metadata": {
    "scrolled": false
   },
   "outputs": [
    {
     "data": {
      "image/png": "[encoded data removed]",
      "text/plain": [
       "<Figure size 432x288 with 1 Axes>"
      ]
     },
     "metadata": {
      "needs_background": "light"
     },
     "output_type": "display_data"
    }
   ],
   "source": [
    "#sorted\n",
    "df_no_answer['day_of_the_month'].value_counts().plot(kind='bar',color='red')\n",
    "plt.title('CAlls which received no answer by date')\n",
    "plt.xlabel('Date of the month')\n",
    "plt.ylabel('count')\n",
    "plt.show()"
   ]
  },
  {
   "cell_type": "markdown",
   "id": "cacc9630",
   "metadata": {},
   "source": [
    "most calls that received no answer were made on 4th"
   ]
  },
  {
   "cell_type": "code",
   "execution_count": 377,
   "id": "11916d53",
   "metadata": {
    "scrolled": true
   },
   "outputs": [
    {
     "data": {
      "text/plain": [
       "Non-Contact    1487\n",
       "Name: Issue Category, dtype: int64"
      ]
     },
     "execution_count": 377,
     "metadata": {},
     "output_type": "execute_result"
    }
   ],
   "source": [
    "df_no_answer['Issue Category'].value_counts()"
   ]
  },
  {
   "cell_type": "markdown",
   "id": "99001bbd",
   "metadata": {},
   "source": [
    "It seems all the calls that received no answer the callers had the same issue. The issue is non-contact"
   ]
  },
  {
   "cell_type": "markdown",
   "id": "3f120a20",
   "metadata": {},
   "source": [
    "lets look at the source"
   ]
  },
  {
   "cell_type": "code",
   "execution_count": 448,
   "id": "877877d2",
   "metadata": {
    "scrolled": false
   },
   "outputs": [
    {
     "data": {
      "text/plain": [
       "VO    1444\n",
       "VB      43\n",
       "Name: Issue Source, dtype: int64"
      ]
     },
     "execution_count": 448,
     "metadata": {},
     "output_type": "execute_result"
    }
   ],
   "source": [
    "df_no_answer['Issue Source'].value_counts()"
   ]
  },
  {
   "cell_type": "markdown",
   "id": "fcc34c1a",
   "metadata": {},
   "source": [
    "most calls that received no answer there issue sorce where VO and VB. VO being 1444 and VB 43"
   ]
  },
  {
   "cell_type": "markdown",
   "id": "a97fd7e4",
   "metadata": {},
   "source": [
    "visualizing the result"
   ]
  },
  {
   "cell_type": "code",
   "execution_count": 675,
   "id": "27abf96b",
   "metadata": {
    "scrolled": false
   },
   "outputs": [
    {
     "data": {
      "image/png": "[encoded data removed]",
      "text/plain": [
       "<Figure size 432x288 with 1 Axes>"
      ]
     },
     "metadata": {
      "needs_background": "light"
     },
     "output_type": "display_data"
    }
   ],
   "source": [
    "df_no_answer['Issue Source'].value_counts().plot(kind='bar',color='blue')\n",
    "plt.title('Issue source of no_answer Dispositions')\n",
    "plt.ylabel('count');"
   ]
  },
  {
   "cell_type": "markdown",
   "id": "94dcdaa9",
   "metadata": {},
   "source": [
    "Lets look at there ticket status"
   ]
  },
  {
   "cell_type": "code",
   "execution_count": 454,
   "id": "98097131",
   "metadata": {
    "scrolled": true
   },
   "outputs": [
    {
     "data": {
      "text/plain": [
       "Closed        1458\n",
       "Open            22\n",
       "Unresolved       4\n",
       "Resolved         3\n",
       "Name: Ticket Status, dtype: int64"
      ]
     },
     "execution_count": 454,
     "metadata": {},
     "output_type": "execute_result"
    }
   ],
   "source": [
    "df_no_answer['Ticket Status'].value_counts()"
   ]
  },
  {
   "cell_type": "markdown",
   "id": "eb676226",
   "metadata": {},
   "source": [
    "Most tickets that received no answer where closed \n",
    "while open, unresolved and resolved tickets where fewer in number"
   ]
  },
  {
   "cell_type": "markdown",
   "id": "8734b77e",
   "metadata": {},
   "source": [
    "visual representation"
   ]
  },
  {
   "cell_type": "code",
   "execution_count": 676,
   "id": "350669ca",
   "metadata": {
    "scrolled": true
   },
   "outputs": [
    {
     "data": {
      "image/png": "[encoded data removed]",
      "text/plain": [
       "<Figure size 432x288 with 1 Axes>"
      ]
     },
     "metadata": {
      "needs_background": "light"
     },
     "output_type": "display_data"
    }
   ],
   "source": [
    "df_no_answer['Ticket Status'].value_counts().plot(kind='bar',color='brown');\n",
    "plt.title('Ticket status with no answer')\n",
    "plt.ylabel('count');"
   ]
  },
  {
   "cell_type": "markdown",
   "id": "e49218d5",
   "metadata": {},
   "source": [
    "### Departments that gave no answer"
   ]
  },
  {
   "cell_type": "code",
   "execution_count": 456,
   "id": "710c760f",
   "metadata": {
    "scrolled": true
   },
   "outputs": [
    {
     "data": {
      "text/plain": [
       "DOM                 7\n",
       "Radio               5\n",
       "Pharm               4\n",
       "Operation           4\n",
       "LAB                 3\n",
       "Paedi               2\n",
       "Non-Ward            2\n",
       "Non-Med             1\n",
       "HAEMATO-ONCOLOGY    1\n",
       "Name: Department, dtype: int64"
      ]
     },
     "execution_count": 456,
     "metadata": {},
     "output_type": "execute_result"
    }
   ],
   "source": [
    "df_no_answer['Department'].value_counts()"
   ]
  },
  {
   "cell_type": "markdown",
   "id": "6a0f39fe",
   "metadata": {},
   "source": [
    "DOM department did not give answers to 7 callers. Non-med and Haemato-oncology department did not answer 1 caller each"
   ]
  },
  {
   "cell_type": "markdown",
   "id": "fe8ad271",
   "metadata": {},
   "source": [
    "visual representation"
   ]
  },
  {
   "cell_type": "code",
   "execution_count": 609,
   "id": "71a87fc3",
   "metadata": {},
   "outputs": [
    {
     "data": {
      "image/png": "[encoded data removed]",
      "text/plain": [
       "<Figure size 720x576 with 1 Axes>"
      ]
     },
     "metadata": {
      "needs_background": "light"
     },
     "output_type": "display_data"
    }
   ],
   "source": [
    "plt.figure(figsize=(10,8))\n",
    "sns.countplot(x='Department', data =df_no_answer)\n",
    "plt.title('CAlls which received no answer by Department')\n",
    "plt.xticks(rotation=90);"
   ]
  },
  {
   "cell_type": "code",
   "execution_count": 677,
   "id": "6660b4f5",
   "metadata": {
    "scrolled": true
   },
   "outputs": [
    {
     "data": {
      "image/png": "[encoded data removed]",
      "text/plain": [
       "<Figure size 432x288 with 1 Axes>"
      ]
     },
     "metadata": {
      "needs_background": "light"
     },
     "output_type": "display_data"
    }
   ],
   "source": [
    "#sorted in pandas\n",
    "df_no_answer['Department'].value_counts().plot(kind='bar')\n",
    "plt.title('Department with no answer disposition sorted')\n",
    "plt.ylabel('count');"
   ]
  },
  {
   "cell_type": "markdown",
   "id": "183df202",
   "metadata": {},
   "source": [
    "DOM is the leading department in giving no_answer followed by Radio"
   ]
  },
  {
   "cell_type": "markdown",
   "id": "32e024eb",
   "metadata": {},
   "source": [
    "## Now we drop the rows with null values\n",
    "    \n",
    "### But before we drop the rows lets look at the other dispositions that produced null values in the department so as not to loose any useful information\n"
   ]
  },
  {
   "cell_type": "markdown",
   "id": "18c7ec9d",
   "metadata": {},
   "source": [
    "**we will use the df_missing data that we created as a copy**"
   ]
  },
  {
   "cell_type": "markdown",
   "id": "fdb23b95",
   "metadata": {},
   "source": [
    "Getting the count of departments"
   ]
  },
  {
   "cell_type": "code",
   "execution_count": 324,
   "id": "073dea36",
   "metadata": {
    "scrolled": true
   },
   "outputs": [
    {
     "data": {
      "text/plain": [
       "DOM                        2608\n",
       "Operation                  1454\n",
       "Radio                      1215\n",
       "OBS/GYNAE                  1141\n",
       "LAB                         923\n",
       "Paedi                       852\n",
       "Pharm                       735\n",
       "Non-Med                     473\n",
       "OUTREACH                    463\n",
       "Non-Ward                    233\n",
       "HAEMATO-ONCOLOGY            201\n",
       "PHYSIOTHERAPY               194\n",
       "FMC                         158\n",
       "FINANCE                     158\n",
       "CASUALTY                    115\n",
       "ANAESTHESIA                  69\n",
       "HUMAN RESOURCE               46\n",
       "FAMILY MEDICINE              35\n",
       "PROCEDURES                   34\n",
       "UNIVERSITY                   28\n",
       "MARKETING                    11\n",
       "THEATRE                      10\n",
       "OBSTETRIC & GYNAECOLOGY       3\n",
       "Name: Department, dtype: int64"
      ]
     },
     "execution_count": 324,
     "metadata": {},
     "output_type": "execute_result"
    }
   ],
   "source": [
    "df_missing['Department'].value_counts()"
   ]
  },
  {
   "cell_type": "markdown",
   "id": "b8805ee1",
   "metadata": {},
   "source": [
    "Counting the number of dispositions with respect to Department"
   ]
  },
  {
   "cell_type": "code",
   "execution_count": 300,
   "id": "839b87c4",
   "metadata": {
    "scrolled": true
   },
   "outputs": [
    {
     "data": {
      "text/plain": [
       "Disposition\n",
       "Availability of doctors         3017\n",
       "Appointment Clarification       2379\n",
       "Appointment Booking             1362\n",
       "Tests                            534\n",
       "Vaccination Availability         424\n",
       "Service Available                380\n",
       "Lab Results                      376\n",
       "Walk-in                          373\n",
       "Medical report                   300\n",
       "availability of drugs            241\n",
       "Operating Hours                  214\n",
       "Housekeeping                     211\n",
       "Pricing                          178\n",
       "Admission                        149\n",
       "Appointment Re-schedule          140\n",
       "Purchasing and Supplies          120\n",
       "Corporate Approval               115\n",
       "Appointment cancellation          85\n",
       "Patient Transfer                  62\n",
       "Visiting Hours                    60\n",
       "Prescription                      59\n",
       "Security                          58\n",
       "Referral                          53\n",
       "Running Late for Appointment      52\n",
       "Billing                           34\n",
       "Recruitment                       32\n",
       "No Answer                         29\n",
       "Discharge                         25\n",
       "Availability of beds              20\n",
       "Engineering                       16\n",
       "Employee Welfare                  14\n",
       "Campaigns                         11\n",
       "Refund on Overcharge               9\n",
       "Ultra-Sound                        7\n",
       "Disconnected                       7\n",
       "Internship                         4\n",
       "Call Transfer                      3\n",
       "Wrong Number                       2\n",
       "Phone Off                          1\n",
       "Silent Call                        1\n",
       "Number Busy                        1\n",
       "X-Ray Services                     1\n",
       "Phone Busy                         0\n",
       "Answering Machine                  0\n",
       "Number No longer in service        0\n",
       "Name: Department, dtype: int64"
      ]
     },
     "execution_count": 300,
     "metadata": {},
     "output_type": "execute_result"
    }
   ],
   "source": [
    "count = df_missing.groupby('Disposition').count()['Department'].sort_values(ascending = False)\n",
    "count"
   ]
  },
  {
   "cell_type": "code",
   "execution_count": 303,
   "id": "36066a73",
   "metadata": {},
   "outputs": [
    {
     "data": {
      "image/png": "[encoded data removed]",
      "text/plain": [
       "<Figure size 1080x504 with 1 Axes>"
      ]
     },
     "metadata": {
      "needs_background": "light"
     },
     "output_type": "display_data"
    }
   ],
   "source": [
    "plt.figure(figsize=(15,7))\n",
    "count.plot(kind='bar');"
   ]
  },
  {
   "cell_type": "markdown",
   "id": "7f56b6b5",
   "metadata": {},
   "source": [
    "### Possible deductions"
   ]
  },
  {
   "cell_type": "markdown",
   "id": "fdf2fef5",
   "metadata": {},
   "source": [
    "From the data their is no department dealing with : 'Phone Busy', 'Answering Machine' and 'Number No longer in service'.\n",
    "Which makes total sense."
   ]
  },
  {
   "cell_type": "markdown",
   "id": "f68ce383",
   "metadata": {},
   "source": [
    "phone being busy means the department was on another call, answering machine maybe receives only\n",
    "textual messages and Number no longer in services the department being called changed the phone number."
   ]
  },
  {
   "cell_type": "markdown",
   "id": "d4f5b789",
   "metadata": {},
   "source": [
    "we can pull each one of the columns out that produced null values in the department and and see the issue."
   ]
  },
  {
   "cell_type": "markdown",
   "id": "20dcdc80",
   "metadata": {},
   "source": [
    "Phone Busy"
   ]
  },
  {
   "cell_type": "code",
   "execution_count": 313,
   "id": "bf0d8284",
   "metadata": {
    "scrolled": true
   },
   "outputs": [
    {
     "data": {
      "text/html": [
       "<div>\n",
       "<style scoped>\n",
       "    .dataframe tbody tr th:only-of-type {\n",
       "        vertical-align: middle;\n",
       "    }\n",
       "\n",
       "    .dataframe tbody tr th {\n",
       "        vertical-align: top;\n",
       "    }\n",
       "\n",
       "    .dataframe thead th {\n",
       "        text-align: right;\n",
       "    }\n",
       "</style>\n",
       "<table border=\"1\" class=\"dataframe\">\n",
       "  <thead>\n",
       "    <tr style=\"text-align: right;\">\n",
       "      <th></th>\n",
       "      <th>Issue Source</th>\n",
       "      <th>Issue Category</th>\n",
       "      <th>Disposition</th>\n",
       "      <th>Department</th>\n",
       "      <th>Date</th>\n",
       "      <th>Ticket Status</th>\n",
       "    </tr>\n",
       "  </thead>\n",
       "  <tbody>\n",
       "    <tr>\n",
       "      <th>2822</th>\n",
       "      <td>VO</td>\n",
       "      <td>Non-Contact</td>\n",
       "      <td>Phone Busy</td>\n",
       "      <td>NaN</td>\n",
       "      <td>5 May 2022</td>\n",
       "      <td>Closed</td>\n",
       "    </tr>\n",
       "    <tr>\n",
       "      <th>3144</th>\n",
       "      <td>VO</td>\n",
       "      <td>Non-Contact</td>\n",
       "      <td>Phone Busy</td>\n",
       "      <td>NaN</td>\n",
       "      <td>5 May 2022</td>\n",
       "      <td>Closed</td>\n",
       "    </tr>\n",
       "    <tr>\n",
       "      <th>4175</th>\n",
       "      <td>VO</td>\n",
       "      <td>Non-Contact</td>\n",
       "      <td>Phone Busy</td>\n",
       "      <td>NaN</td>\n",
       "      <td>6 May 2022</td>\n",
       "      <td>Closed</td>\n",
       "    </tr>\n",
       "    <tr>\n",
       "      <th>11039</th>\n",
       "      <td>VO</td>\n",
       "      <td>Non-Contact</td>\n",
       "      <td>Phone Busy</td>\n",
       "      <td>NaN</td>\n",
       "      <td>15 May 2022</td>\n",
       "      <td>Closed</td>\n",
       "    </tr>\n",
       "    <tr>\n",
       "      <th>11401</th>\n",
       "      <td>VO</td>\n",
       "      <td>Non-Contact</td>\n",
       "      <td>Phone Busy</td>\n",
       "      <td>NaN</td>\n",
       "      <td>16 May 2022</td>\n",
       "      <td>Closed</td>\n",
       "    </tr>\n",
       "  </tbody>\n",
       "</table>\n",
       "</div>"
      ],
      "text/plain": [
       "      Issue Source Issue Category Disposition Department        Date   \\\n",
       "2822            VO    Non-Contact  Phone Busy        NaN   5 May 2022   \n",
       "3144            VO    Non-Contact  Phone Busy        NaN   5 May 2022   \n",
       "4175            VO    Non-Contact  Phone Busy        NaN   6 May 2022   \n",
       "11039           VO    Non-Contact  Phone Busy        NaN  15 May 2022   \n",
       "11401           VO    Non-Contact  Phone Busy        NaN  16 May 2022   \n",
       "\n",
       "      Ticket Status  \n",
       "2822         Closed  \n",
       "3144         Closed  \n",
       "4175         Closed  \n",
       "11039        Closed  \n",
       "11401        Closed  "
      ]
     },
     "execution_count": 313,
     "metadata": {},
     "output_type": "execute_result"
    }
   ],
   "source": [
    "df_missing[df_missing['Disposition'] == 'Phone Busy']"
   ]
  },
  {
   "cell_type": "code",
   "execution_count": null,
   "id": "4a902634",
   "metadata": {},
   "outputs": [],
   "source": []
  },
  {
   "cell_type": "markdown",
   "id": "89f01868",
   "metadata": {},
   "source": [
    " Obviously the department has null values "
   ]
  },
  {
   "cell_type": "markdown",
   "id": "ba5fe1ea",
   "metadata": {},
   "source": [
    "It seems that phone busy is duplicated in other columns if it has Nans in the department except on the dates columns"
   ]
  },
  {
   "cell_type": "markdown",
   "id": "42fbf8b3",
   "metadata": {},
   "source": [
    "So dropping rows with nans will also drop the duplicates"
   ]
  },
  {
   "cell_type": "code",
   "execution_count": 314,
   "id": "4443aec8",
   "metadata": {
    "scrolled": true
   },
   "outputs": [
    {
     "data": {
      "text/html": [
       "<div>\n",
       "<style scoped>\n",
       "    .dataframe tbody tr th:only-of-type {\n",
       "        vertical-align: middle;\n",
       "    }\n",
       "\n",
       "    .dataframe tbody tr th {\n",
       "        vertical-align: top;\n",
       "    }\n",
       "\n",
       "    .dataframe thead th {\n",
       "        text-align: right;\n",
       "    }\n",
       "</style>\n",
       "<table border=\"1\" class=\"dataframe\">\n",
       "  <thead>\n",
       "    <tr style=\"text-align: right;\">\n",
       "      <th></th>\n",
       "      <th>Issue Source</th>\n",
       "      <th>Issue Category</th>\n",
       "      <th>Disposition</th>\n",
       "      <th>Department</th>\n",
       "      <th>Date</th>\n",
       "      <th>Ticket Status</th>\n",
       "    </tr>\n",
       "  </thead>\n",
       "  <tbody>\n",
       "    <tr>\n",
       "      <th>272</th>\n",
       "      <td>VO</td>\n",
       "      <td>Non-Contact</td>\n",
       "      <td>Answering Machine</td>\n",
       "      <td>NaN</td>\n",
       "      <td>2 May 2022</td>\n",
       "      <td>Closed</td>\n",
       "    </tr>\n",
       "    <tr>\n",
       "      <th>7381</th>\n",
       "      <td>VO</td>\n",
       "      <td>Non-Contact</td>\n",
       "      <td>Answering Machine</td>\n",
       "      <td>NaN</td>\n",
       "      <td>10 May 2022</td>\n",
       "      <td>Closed</td>\n",
       "    </tr>\n",
       "  </tbody>\n",
       "</table>\n",
       "</div>"
      ],
      "text/plain": [
       "     Issue Source Issue Category        Disposition Department        Date   \\\n",
       "272            VO    Non-Contact  Answering Machine        NaN   2 May 2022   \n",
       "7381           VO    Non-Contact  Answering Machine        NaN  10 May 2022   \n",
       "\n",
       "     Ticket Status  \n",
       "272         Closed  \n",
       "7381        Closed  "
      ]
     },
     "execution_count": 314,
     "metadata": {},
     "output_type": "execute_result"
    }
   ],
   "source": [
    "df_missing[df_missing['Disposition'] == 'Answering Machine']"
   ]
  },
  {
   "cell_type": "markdown",
   "id": "dba98898",
   "metadata": {},
   "source": [
    "Answering Machine"
   ]
  },
  {
   "cell_type": "code",
   "execution_count": 315,
   "id": "731fa164",
   "metadata": {
    "scrolled": true
   },
   "outputs": [
    {
     "data": {
      "text/html": [
       "<div>\n",
       "<style scoped>\n",
       "    .dataframe tbody tr th:only-of-type {\n",
       "        vertical-align: middle;\n",
       "    }\n",
       "\n",
       "    .dataframe tbody tr th {\n",
       "        vertical-align: top;\n",
       "    }\n",
       "\n",
       "    .dataframe thead th {\n",
       "        text-align: right;\n",
       "    }\n",
       "</style>\n",
       "<table border=\"1\" class=\"dataframe\">\n",
       "  <thead>\n",
       "    <tr style=\"text-align: right;\">\n",
       "      <th></th>\n",
       "      <th>Issue Source</th>\n",
       "      <th>Issue Category</th>\n",
       "      <th>Disposition</th>\n",
       "      <th>Department</th>\n",
       "      <th>Date</th>\n",
       "      <th>Ticket Status</th>\n",
       "    </tr>\n",
       "  </thead>\n",
       "  <tbody>\n",
       "  </tbody>\n",
       "</table>\n",
       "</div>"
      ],
      "text/plain": [
       "Empty DataFrame\n",
       "Columns: [Issue Source, Issue Category, Disposition, Department, Date , Ticket Status]\n",
       "Index: []"
      ]
     },
     "execution_count": 315,
     "metadata": {},
     "output_type": "execute_result"
    }
   ],
   "source": [
    "df_missing[df_missing['Disposition'] == 'Answering Machine']"
   ]
  },
  {
   "cell_type": "markdown",
   "id": "f987e8ca",
   "metadata": {},
   "source": [
    "Phone Off"
   ]
  },
  {
   "cell_type": "code",
   "execution_count": 440,
   "id": "b278b942",
   "metadata": {},
   "outputs": [
    {
     "data": {
      "text/html": [
       "<div>\n",
       "<style scoped>\n",
       "    .dataframe tbody tr th:only-of-type {\n",
       "        vertical-align: middle;\n",
       "    }\n",
       "\n",
       "    .dataframe tbody tr th {\n",
       "        vertical-align: top;\n",
       "    }\n",
       "\n",
       "    .dataframe thead th {\n",
       "        text-align: right;\n",
       "    }\n",
       "</style>\n",
       "<table border=\"1\" class=\"dataframe\">\n",
       "  <thead>\n",
       "    <tr style=\"text-align: right;\">\n",
       "      <th></th>\n",
       "      <th>Issue Source</th>\n",
       "      <th>Issue Category</th>\n",
       "      <th>Disposition</th>\n",
       "      <th>Department</th>\n",
       "      <th>Date</th>\n",
       "      <th>Ticket Status</th>\n",
       "      <th>day_of_the_week</th>\n",
       "      <th>day_of_the_month</th>\n",
       "    </tr>\n",
       "  </thead>\n",
       "  <tbody>\n",
       "    <tr>\n",
       "      <th>276</th>\n",
       "      <td>VO</td>\n",
       "      <td>Non-Contact</td>\n",
       "      <td>Phone Off</td>\n",
       "      <td>NaN</td>\n",
       "      <td>2 May 2022</td>\n",
       "      <td>Closed</td>\n",
       "      <td>Monday</td>\n",
       "      <td>2022-05-02</td>\n",
       "    </tr>\n",
       "    <tr>\n",
       "      <th>598</th>\n",
       "      <td>VO</td>\n",
       "      <td>Non-Contact</td>\n",
       "      <td>Phone Off</td>\n",
       "      <td>NaN</td>\n",
       "      <td>2 May 2022</td>\n",
       "      <td>Closed</td>\n",
       "      <td>Monday</td>\n",
       "      <td>2022-05-02</td>\n",
       "    </tr>\n",
       "    <tr>\n",
       "      <th>760</th>\n",
       "      <td>VB</td>\n",
       "      <td>Non-Contact</td>\n",
       "      <td>Phone Off</td>\n",
       "      <td>DOM</td>\n",
       "      <td>3 May 2022</td>\n",
       "      <td>Closed</td>\n",
       "      <td>Tuesday</td>\n",
       "      <td>2022-05-03</td>\n",
       "    </tr>\n",
       "    <tr>\n",
       "      <th>1337</th>\n",
       "      <td>VO</td>\n",
       "      <td>Non-Contact</td>\n",
       "      <td>Phone Off</td>\n",
       "      <td>NaN</td>\n",
       "      <td>4 May 2022</td>\n",
       "      <td>Closed</td>\n",
       "      <td>Wednesday</td>\n",
       "      <td>2022-05-04</td>\n",
       "    </tr>\n",
       "    <tr>\n",
       "      <th>1388</th>\n",
       "      <td>VO</td>\n",
       "      <td>Non-Contact</td>\n",
       "      <td>Phone Off</td>\n",
       "      <td>NaN</td>\n",
       "      <td>4 May 2022</td>\n",
       "      <td>Closed</td>\n",
       "      <td>Wednesday</td>\n",
       "      <td>2022-05-04</td>\n",
       "    </tr>\n",
       "    <tr>\n",
       "      <th>1757</th>\n",
       "      <td>VO</td>\n",
       "      <td>Non-Contact</td>\n",
       "      <td>Phone Off</td>\n",
       "      <td>NaN</td>\n",
       "      <td>4 May 2022</td>\n",
       "      <td>Closed</td>\n",
       "      <td>Wednesday</td>\n",
       "      <td>2022-05-04</td>\n",
       "    </tr>\n",
       "    <tr>\n",
       "      <th>2530</th>\n",
       "      <td>VO</td>\n",
       "      <td>Non-Contact</td>\n",
       "      <td>Phone Off</td>\n",
       "      <td>NaN</td>\n",
       "      <td>5 May 2022</td>\n",
       "      <td>Closed</td>\n",
       "      <td>Thursday</td>\n",
       "      <td>2022-05-05</td>\n",
       "    </tr>\n",
       "    <tr>\n",
       "      <th>2565</th>\n",
       "      <td>VO</td>\n",
       "      <td>Non-Contact</td>\n",
       "      <td>Phone Off</td>\n",
       "      <td>NaN</td>\n",
       "      <td>5 May 2022</td>\n",
       "      <td>Closed</td>\n",
       "      <td>Thursday</td>\n",
       "      <td>2022-05-05</td>\n",
       "    </tr>\n",
       "    <tr>\n",
       "      <th>3321</th>\n",
       "      <td>VO</td>\n",
       "      <td>Non-Contact</td>\n",
       "      <td>Phone Off</td>\n",
       "      <td>NaN</td>\n",
       "      <td>5 May 2022</td>\n",
       "      <td>Closed</td>\n",
       "      <td>Thursday</td>\n",
       "      <td>2022-05-05</td>\n",
       "    </tr>\n",
       "    <tr>\n",
       "      <th>3642</th>\n",
       "      <td>VO</td>\n",
       "      <td>Non-Contact</td>\n",
       "      <td>Phone Off</td>\n",
       "      <td>NaN</td>\n",
       "      <td>6 May 2022</td>\n",
       "      <td>Closed</td>\n",
       "      <td>Friday</td>\n",
       "      <td>2022-05-06</td>\n",
       "    </tr>\n",
       "    <tr>\n",
       "      <th>6726</th>\n",
       "      <td>VO</td>\n",
       "      <td>Non-Contact</td>\n",
       "      <td>Phone Off</td>\n",
       "      <td>NaN</td>\n",
       "      <td>10 May 2022</td>\n",
       "      <td>Closed</td>\n",
       "      <td>Tuesday</td>\n",
       "      <td>2022-05-10</td>\n",
       "    </tr>\n",
       "    <tr>\n",
       "      <th>9362</th>\n",
       "      <td>VO</td>\n",
       "      <td>Non-Contact</td>\n",
       "      <td>Phone Off</td>\n",
       "      <td>NaN</td>\n",
       "      <td>12 May 2022</td>\n",
       "      <td>Closed</td>\n",
       "      <td>Thursday</td>\n",
       "      <td>2022-05-12</td>\n",
       "    </tr>\n",
       "    <tr>\n",
       "      <th>9849</th>\n",
       "      <td>VO</td>\n",
       "      <td>Non-Contact</td>\n",
       "      <td>Phone Off</td>\n",
       "      <td>NaN</td>\n",
       "      <td>13 May 2022</td>\n",
       "      <td>Closed</td>\n",
       "      <td>Friday</td>\n",
       "      <td>2022-05-13</td>\n",
       "    </tr>\n",
       "    <tr>\n",
       "      <th>12975</th>\n",
       "      <td>VO</td>\n",
       "      <td>Non-Contact</td>\n",
       "      <td>Phone Off</td>\n",
       "      <td>NaN</td>\n",
       "      <td>17 May 2022</td>\n",
       "      <td>Closed</td>\n",
       "      <td>Tuesday</td>\n",
       "      <td>2022-05-17</td>\n",
       "    </tr>\n",
       "  </tbody>\n",
       "</table>\n",
       "</div>"
      ],
      "text/plain": [
       "      Issue Source Issue Category Disposition Department        Date   \\\n",
       "276             VO    Non-Contact   Phone Off        NaN   2 May 2022   \n",
       "598             VO    Non-Contact   Phone Off        NaN   2 May 2022   \n",
       "760             VB    Non-Contact   Phone Off        DOM   3 May 2022   \n",
       "1337            VO    Non-Contact   Phone Off        NaN   4 May 2022   \n",
       "1388            VO    Non-Contact   Phone Off        NaN   4 May 2022   \n",
       "1757            VO    Non-Contact   Phone Off        NaN   4 May 2022   \n",
       "2530            VO    Non-Contact   Phone Off        NaN   5 May 2022   \n",
       "2565            VO    Non-Contact   Phone Off        NaN   5 May 2022   \n",
       "3321            VO    Non-Contact   Phone Off        NaN   5 May 2022   \n",
       "3642            VO    Non-Contact   Phone Off        NaN   6 May 2022   \n",
       "6726            VO    Non-Contact   Phone Off        NaN  10 May 2022   \n",
       "9362            VO    Non-Contact   Phone Off        NaN  12 May 2022   \n",
       "9849            VO    Non-Contact   Phone Off        NaN  13 May 2022   \n",
       "12975           VO    Non-Contact   Phone Off        NaN  17 May 2022   \n",
       "\n",
       "      Ticket Status day_of_the_week day_of_the_month  \n",
       "276          Closed          Monday       2022-05-02  \n",
       "598          Closed          Monday       2022-05-02  \n",
       "760          Closed         Tuesday       2022-05-03  \n",
       "1337         Closed       Wednesday       2022-05-04  \n",
       "1388         Closed       Wednesday       2022-05-04  \n",
       "1757         Closed       Wednesday       2022-05-04  \n",
       "2530         Closed        Thursday       2022-05-05  \n",
       "2565         Closed        Thursday       2022-05-05  \n",
       "3321         Closed        Thursday       2022-05-05  \n",
       "3642         Closed          Friday       2022-05-06  \n",
       "6726         Closed         Tuesday       2022-05-10  \n",
       "9362         Closed        Thursday       2022-05-12  \n",
       "9849         Closed          Friday       2022-05-13  \n",
       "12975        Closed         Tuesday       2022-05-17  "
      ]
     },
     "execution_count": 440,
     "metadata": {},
     "output_type": "execute_result"
    }
   ],
   "source": [
    "df_missing[df_missing['Disposition'] == 'Phone Off']"
   ]
  },
  {
   "cell_type": "code",
   "execution_count": 458,
   "id": "c442ebaa",
   "metadata": {
    "scrolled": false
   },
   "outputs": [
    {
     "data": {
      "text/plain": [
       "DOM    1\n",
       "Name: Department, dtype: int64"
      ]
     },
     "execution_count": 458,
     "metadata": {},
     "output_type": "execute_result"
    }
   ],
   "source": [
    "df_missing[df_missing['Disposition'] == 'Phone Off']['Department'].value_counts()"
   ]
  },
  {
   "cell_type": "markdown",
   "id": "f3406dce",
   "metadata": {},
   "source": [
    "The DOM department there phone was off on 3 may 2022, on a Tuesday"
   ]
  },
  {
   "cell_type": "markdown",
   "id": "cf3adddb",
   "metadata": {},
   "source": [
    "Departments where number was busy"
   ]
  },
  {
   "cell_type": "code",
   "execution_count": 457,
   "id": "d9005a71",
   "metadata": {
    "scrolled": false
   },
   "outputs": [
    {
     "data": {
      "text/plain": [
       "Non-Med    1\n",
       "Name: Department, dtype: int64"
      ]
     },
     "execution_count": 457,
     "metadata": {},
     "output_type": "execute_result"
    }
   ],
   "source": [
    "df_missing[df_missing['Disposition'] == 'Number Busy']['Department'].value_counts()"
   ]
  },
  {
   "cell_type": "markdown",
   "id": "6333dac3",
   "metadata": {},
   "source": [
    "Only non-med department there number was busy once"
   ]
  },
  {
   "cell_type": "markdown",
   "id": "c43fccee",
   "metadata": {},
   "source": [
    "Departments in which calls where disconnected"
   ]
  },
  {
   "cell_type": "code",
   "execution_count": 479,
   "id": "90c95bcd",
   "metadata": {},
   "outputs": [
    {
     "data": {
      "text/plain": [
       "DOM           2\n",
       "Radio         2\n",
       "Non-Med       1\n",
       "Operation     1\n",
       "UNIVERSITY    1\n",
       "Name: Department, dtype: int64"
      ]
     },
     "execution_count": 479,
     "metadata": {},
     "output_type": "execute_result"
    }
   ],
   "source": [
    "disconnected_calls = df_missing[df_missing['Disposition'] == 'Disconnected']['Department'].value_counts()\n",
    "disconnected_calls"
   ]
  },
  {
   "cell_type": "code",
   "execution_count": 478,
   "id": "87fa36b4",
   "metadata": {},
   "outputs": [
    {
     "data": {
      "image/png": "[encoded data removed]",
      "text/plain": [
       "<Figure size 432x288 with 1 Axes>"
      ]
     },
     "metadata": {
      "needs_background": "light"
     },
     "output_type": "display_data"
    }
   ],
   "source": [
    "disconnected_calls.plot(kind='bar');"
   ]
  },
  {
   "cell_type": "markdown",
   "id": "89de2145",
   "metadata": {},
   "source": [
    "## we can now drop rows with nan"
   ]
  },
  {
   "cell_type": "markdown",
   "id": "7dc90f34",
   "metadata": {},
   "source": [
    "**Drop rows with null values**"
   ]
  },
  {
   "cell_type": "code",
   "execution_count": 678,
   "id": "760a3d47",
   "metadata": {},
   "outputs": [],
   "source": [
    "df = df.dropna(axis=0)"
   ]
  },
  {
   "cell_type": "code",
   "execution_count": 679,
   "id": "fe0c8287",
   "metadata": {
    "scrolled": true
   },
   "outputs": [
    {
     "data": {
      "text/plain": [
       "Issue Source        0\n",
       "Issue Category      0\n",
       "Disposition         0\n",
       "Department          0\n",
       "Date                0\n",
       "Ticket Status       0\n",
       "day_of_the_week     0\n",
       "day_of_the_month    0\n",
       "dtype: int64"
      ]
     },
     "execution_count": 679,
     "metadata": {},
     "output_type": "execute_result"
    }
   ],
   "source": [
    "df.isnull().sum()"
   ]
  },
  {
   "cell_type": "code",
   "execution_count": 681,
   "id": "585c7551",
   "metadata": {
    "scrolled": true
   },
   "outputs": [
    {
     "data": {
      "image/png": "[encoded data removed]",
      "text/plain": [
       "<Figure size 432x288 with 1 Axes>"
      ]
     },
     "metadata": {
      "needs_background": "light"
     },
     "output_type": "display_data"
    }
   ],
   "source": [
    "sns.heatmap(df.isnull(),yticklabels=False,cbar=False,cmap='viridis');\n",
    "plt.title('missing values heatmap');"
   ]
  },
  {
   "cell_type": "markdown",
   "id": "86c981a8",
   "metadata": {},
   "source": [
    "## Now that our data is clean we can get a gist of it."
   ]
  },
  {
   "cell_type": "code",
   "execution_count": 385,
   "id": "264fac27",
   "metadata": {
    "scrolled": false
   },
   "outputs": [
    {
     "data": {
      "text/plain": [
       "(11158, 8)"
      ]
     },
     "execution_count": 385,
     "metadata": {},
     "output_type": "execute_result"
    }
   ],
   "source": [
    "df.shape"
   ]
  },
  {
   "cell_type": "code",
   "execution_count": 408,
   "id": "532a3f10",
   "metadata": {
    "scrolled": true
   },
   "outputs": [
    {
     "data": {
      "text/html": [
       "<div>\n",
       "<style scoped>\n",
       "    .dataframe tbody tr th:only-of-type {\n",
       "        vertical-align: middle;\n",
       "    }\n",
       "\n",
       "    .dataframe tbody tr th {\n",
       "        vertical-align: top;\n",
       "    }\n",
       "\n",
       "    .dataframe thead th {\n",
       "        text-align: right;\n",
       "    }\n",
       "</style>\n",
       "<table border=\"1\" class=\"dataframe\">\n",
       "  <thead>\n",
       "    <tr style=\"text-align: right;\">\n",
       "      <th></th>\n",
       "      <th>Issue Source</th>\n",
       "      <th>Issue Category</th>\n",
       "      <th>Disposition</th>\n",
       "      <th>Department</th>\n",
       "      <th>Date</th>\n",
       "      <th>Ticket Status</th>\n",
       "      <th>day_of_the_week</th>\n",
       "      <th>day_of_the_month</th>\n",
       "    </tr>\n",
       "  </thead>\n",
       "  <tbody>\n",
       "    <tr>\n",
       "      <th>1</th>\n",
       "      <td>VO</td>\n",
       "      <td>Inquiry</td>\n",
       "      <td>Prescription</td>\n",
       "      <td>Pharm</td>\n",
       "      <td>1 May 2022</td>\n",
       "      <td>Open</td>\n",
       "      <td>Sunday</td>\n",
       "      <td>2022-05-01</td>\n",
       "    </tr>\n",
       "  </tbody>\n",
       "</table>\n",
       "</div>"
      ],
      "text/plain": [
       "  Issue Source Issue Category   Disposition Department       Date   \\\n",
       "1           VO        Inquiry  Prescription      Pharm  1 May 2022   \n",
       "\n",
       "  Ticket Status day_of_the_week day_of_the_month  \n",
       "1          Open          Sunday       2022-05-01  "
      ]
     },
     "execution_count": 408,
     "metadata": {},
     "output_type": "execute_result"
    }
   ],
   "source": [
    "df.head(1)"
   ]
  },
  {
   "cell_type": "code",
   "execution_count": null,
   "id": "fcf22bff",
   "metadata": {},
   "outputs": [],
   "source": []
  },
  {
   "cell_type": "markdown",
   "id": "bf7d88ad",
   "metadata": {},
   "source": [
    "# Deep Dive into Calls Made "
   ]
  },
  {
   "cell_type": "markdown",
   "id": "21fc76b8",
   "metadata": {},
   "source": [
    "### Calls made per day through out the month"
   ]
  },
  {
   "cell_type": "code",
   "execution_count": 611,
   "id": "575225d5",
   "metadata": {
    "scrolled": true
   },
   "outputs": [
    {
     "data": {
      "image/png": "[encoded data removed]",
      "text/plain": [
       "<Figure size 720x504 with 1 Axes>"
      ]
     },
     "metadata": {
      "needs_background": "light"
     },
     "output_type": "display_data"
    }
   ],
   "source": [
    "plt.figure(figsize = (10,7))\n",
    "sns.countplot(x='day_of_the_month', data =df)\n",
    "plt.title('Calls that were made through out the month of may')\n",
    "plt.xticks(rotation=90);"
   ]
  },
  {
   "cell_type": "code",
   "execution_count": 613,
   "id": "a935c435",
   "metadata": {},
   "outputs": [
    {
     "data": {
      "image/png": "[encoded data removed]",
      "text/plain": [
       "<Figure size 432x288 with 1 Axes>"
      ]
     },
     "metadata": {
      "needs_background": "light"
     },
     "output_type": "display_data"
    }
   ],
   "source": [
    "#sorted\n",
    "df['day_of_the_month'].value_counts(sort = True).plot(kind='bar',color='green')\n",
    "plt.title('Calls made per day through out the month of May')\n",
    "plt.xlabel('Date of the month')\n",
    "plt.ylabel('count')\n",
    "plt.show()"
   ]
  },
  {
   "cell_type": "markdown",
   "id": "99fd8f2c",
   "metadata": {},
   "source": [
    "**Most calls were made on 4th and while few calls were made on 1st of May**"
   ]
  },
  {
   "cell_type": "markdown",
   "id": "b71bdf5d",
   "metadata": {},
   "source": [
    "### Total Calls made within the weekdays"
   ]
  },
  {
   "cell_type": "code",
   "execution_count": 612,
   "id": "ed67e879",
   "metadata": {},
   "outputs": [
    {
     "data": {
      "image/png": "[encoded data removed]",
      "text/plain": [
       "<Figure size 432x288 with 1 Axes>"
      ]
     },
     "metadata": {
      "needs_background": "light"
     },
     "output_type": "display_data"
    }
   ],
   "source": [
    "df['day_of_the_week'].value_counts().plot(kind='bar',color='green')\n",
    "plt.title('Total calls made in the week days')\n",
    "plt.xlabel('Day of the week')\n",
    "plt.ylabel('count')\n",
    "plt.show()"
   ]
  },
  {
   "cell_type": "markdown",
   "id": "63ea3cc4",
   "metadata": {},
   "source": [
    "**From the Data most calls are made on weekdays and they are least on weekends**"
   ]
  },
  {
   "cell_type": "markdown",
   "id": "a44441d7",
   "metadata": {},
   "source": [
    "## Getting the count of the unique values"
   ]
  },
  {
   "cell_type": "code",
   "execution_count": 394,
   "id": "a777ddee",
   "metadata": {
    "scrolled": true
   },
   "outputs": [
    {
     "name": "stdout",
     "output_type": "stream",
     "text": [
      "Issue Source -->\n",
      "\n",
      "VB    9268\n",
      "VO    1888\n",
      "Em       1\n",
      "SM       1\n",
      "Name: Issue Source, dtype: int64\n",
      "---------------------------------\n",
      "Issue Category -->\n",
      "\n",
      "Request        5540\n",
      "Inquiry        5353\n",
      "Follow-up       162\n",
      "Feedback         43\n",
      "Non-Contact      41\n",
      "Complaint        19\n",
      "Name: Issue Category, dtype: int64\n",
      "---------------------------------\n",
      "Department -->\n",
      "\n",
      "DOM                        2608\n",
      "Operation                  1454\n",
      "Radio                      1215\n",
      "OBS/GYNAE                  1141\n",
      "LAB                         922\n",
      "Paedi                       852\n",
      "Pharm                       735\n",
      "Non-Med                     473\n",
      "OUTREACH                    463\n",
      "Non-Ward                    233\n",
      "HAEMATO-ONCOLOGY            201\n",
      "PHYSIOTHERAPY               194\n",
      "FMC                         158\n",
      "FINANCE                     158\n",
      "CASUALTY                    115\n",
      "ANAESTHESIA                  69\n",
      "HUMAN RESOURCE               46\n",
      "FAMILY MEDICINE              35\n",
      "PROCEDURES                   34\n",
      "UNIVERSITY                   28\n",
      "MARKETING                    11\n",
      "THEATRE                      10\n",
      "OBSTETRIC & GYNAECOLOGY       3\n",
      "Name: Department, dtype: int64\n",
      "---------------------------------\n",
      "Ticket Status -->\n",
      "\n",
      "Closed        10905\n",
      "Open            158\n",
      "Resolved         73\n",
      "Unresolved       22\n",
      "Name: Ticket Status, dtype: int64\n",
      "---------------------------------\n"
     ]
    }
   ],
   "source": [
    "columns = ['Issue Source', 'Issue Category', 'Department',\n",
    "       'Ticket Status']\n",
    "\n",
    "for i in columns:\n",
    "    print(i, '-->')\n",
    "    print()\n",
    "    print(df[i].value_counts())\n",
    "    print('---------------------------------')"
   ]
  },
  {
   "cell_type": "markdown",
   "id": "77049860",
   "metadata": {},
   "source": [
    "## Lets visualize unique values of each column separately"
   ]
  },
  {
   "cell_type": "markdown",
   "id": "4be770af",
   "metadata": {},
   "source": [
    "**lets start with departments**"
   ]
  },
  {
   "cell_type": "markdown",
   "id": "4c24fd4b",
   "metadata": {},
   "source": [
    "calls made to the departments"
   ]
  },
  {
   "cell_type": "code",
   "execution_count": 614,
   "id": "2973928f",
   "metadata": {},
   "outputs": [
    {
     "data": {
      "image/png": "[encoded data removed]",
      "text/plain": [
       "<Figure size 720x576 with 1 Axes>"
      ]
     },
     "metadata": {
      "needs_background": "light"
     },
     "output_type": "display_data"
    }
   ],
   "source": [
    "plt.figure(figsize = (10,8))\n",
    "sns.countplot(x='Department', data =df)\n",
    "plt.title('calls made to the department')\n",
    "plt.xticks(rotation=90);"
   ]
  },
  {
   "cell_type": "code",
   "execution_count": 436,
   "id": "0d9e142c",
   "metadata": {
    "scrolled": true
   },
   "outputs": [
    {
     "data": {
      "image/png": "[encoded data removed]",
      "text/plain": [
       "<Figure size 864x576 with 1 Axes>"
      ]
     },
     "metadata": {
      "needs_background": "light"
     },
     "output_type": "display_data"
    }
   ],
   "source": [
    "#sorted\n",
    "plt.figure(figsize=(12,8))\n",
    "df['Department'].value_counts().plot(kind='bar',color='red')\n",
    "plt.title('Calls Made per Department')\n",
    "plt.ylabel('counts')\n",
    "plt.xlabel('Department');"
   ]
  },
  {
   "cell_type": "markdown",
   "id": "b993d710",
   "metadata": {},
   "source": [
    "DOM department receives most calls"
   ]
  },
  {
   "cell_type": "markdown",
   "id": "4de71045",
   "metadata": {},
   "source": [
    "lets see the dispositions in DOM"
   ]
  },
  {
   "cell_type": "code",
   "execution_count": 466,
   "id": "1d755d80",
   "metadata": {},
   "outputs": [],
   "source": [
    "df_dom = df.query('Department == \"DOM\"')"
   ]
  },
  {
   "cell_type": "code",
   "execution_count": 467,
   "id": "934ed24d",
   "metadata": {},
   "outputs": [
    {
     "data": {
      "text/html": [
       "<div>\n",
       "<style scoped>\n",
       "    .dataframe tbody tr th:only-of-type {\n",
       "        vertical-align: middle;\n",
       "    }\n",
       "\n",
       "    .dataframe tbody tr th {\n",
       "        vertical-align: top;\n",
       "    }\n",
       "\n",
       "    .dataframe thead th {\n",
       "        text-align: right;\n",
       "    }\n",
       "</style>\n",
       "<table border=\"1\" class=\"dataframe\">\n",
       "  <thead>\n",
       "    <tr style=\"text-align: right;\">\n",
       "      <th></th>\n",
       "      <th>Issue Source</th>\n",
       "      <th>Issue Category</th>\n",
       "      <th>Disposition</th>\n",
       "      <th>Department</th>\n",
       "      <th>Date</th>\n",
       "      <th>Ticket Status</th>\n",
       "      <th>day_of_the_week</th>\n",
       "      <th>day_of_the_month</th>\n",
       "    </tr>\n",
       "  </thead>\n",
       "  <tbody>\n",
       "    <tr>\n",
       "      <th>29</th>\n",
       "      <td>VB</td>\n",
       "      <td>Inquiry</td>\n",
       "      <td>Appointment Booking</td>\n",
       "      <td>DOM</td>\n",
       "      <td>1 May 2022</td>\n",
       "      <td>Open</td>\n",
       "      <td>Sunday</td>\n",
       "      <td>2022-05-01</td>\n",
       "    </tr>\n",
       "    <tr>\n",
       "      <th>39</th>\n",
       "      <td>VB</td>\n",
       "      <td>Inquiry</td>\n",
       "      <td>Availability of doctors</td>\n",
       "      <td>DOM</td>\n",
       "      <td>1 May 2022</td>\n",
       "      <td>Open</td>\n",
       "      <td>Sunday</td>\n",
       "      <td>2022-05-01</td>\n",
       "    </tr>\n",
       "    <tr>\n",
       "      <th>50</th>\n",
       "      <td>VB</td>\n",
       "      <td>Request</td>\n",
       "      <td>Availability of doctors</td>\n",
       "      <td>DOM</td>\n",
       "      <td>1 May 2022</td>\n",
       "      <td>Open</td>\n",
       "      <td>Sunday</td>\n",
       "      <td>2022-05-01</td>\n",
       "    </tr>\n",
       "    <tr>\n",
       "      <th>55</th>\n",
       "      <td>VB</td>\n",
       "      <td>Request</td>\n",
       "      <td>Appointment Booking</td>\n",
       "      <td>DOM</td>\n",
       "      <td>1 May 2022</td>\n",
       "      <td>Open</td>\n",
       "      <td>Sunday</td>\n",
       "      <td>2022-05-01</td>\n",
       "    </tr>\n",
       "    <tr>\n",
       "      <th>92</th>\n",
       "      <td>VB</td>\n",
       "      <td>Inquiry</td>\n",
       "      <td>Appointment Booking</td>\n",
       "      <td>DOM</td>\n",
       "      <td>1 May 2022</td>\n",
       "      <td>Open</td>\n",
       "      <td>Sunday</td>\n",
       "      <td>2022-05-01</td>\n",
       "    </tr>\n",
       "  </tbody>\n",
       "</table>\n",
       "</div>"
      ],
      "text/plain": [
       "   Issue Source Issue Category              Disposition Department  \\\n",
       "29           VB        Inquiry      Appointment Booking        DOM   \n",
       "39           VB        Inquiry  Availability of doctors        DOM   \n",
       "50           VB        Request  Availability of doctors        DOM   \n",
       "55           VB        Request      Appointment Booking        DOM   \n",
       "92           VB        Inquiry      Appointment Booking        DOM   \n",
       "\n",
       "         Date  Ticket Status day_of_the_week day_of_the_month  \n",
       "29  1 May 2022          Open          Sunday       2022-05-01  \n",
       "39  1 May 2022          Open          Sunday       2022-05-01  \n",
       "50  1 May 2022          Open          Sunday       2022-05-01  \n",
       "55  1 May 2022          Open          Sunday       2022-05-01  \n",
       "92  1 May 2022          Open          Sunday       2022-05-01  "
      ]
     },
     "execution_count": 467,
     "metadata": {},
     "output_type": "execute_result"
    }
   ],
   "source": [
    "df_dom.head()"
   ]
  },
  {
   "cell_type": "code",
   "execution_count": 468,
   "id": "dd899e97",
   "metadata": {
    "scrolled": true
   },
   "outputs": [
    {
     "data": {
      "text/plain": [
       "Availability of doctors         1360\n",
       "Appointment Booking              478\n",
       "Appointment Clarification        462\n",
       "Walk-in                          182\n",
       "Appointment Re-schedule           35\n",
       "Appointment cancellation          32\n",
       "Medical report                    31\n",
       "Running Late for Appointment      18\n",
       "No Answer                          7\n",
       "Disconnected                       2\n",
       "Phone Off                          1\n",
       "Name: Disposition, dtype: int64"
      ]
     },
     "execution_count": 468,
     "metadata": {},
     "output_type": "execute_result"
    }
   ],
   "source": [
    "df_dom['Disposition'].value_counts()"
   ]
  },
  {
   "cell_type": "markdown",
   "id": "e2346f73",
   "metadata": {},
   "source": [
    "Most calls came in seeking for availability of doctors and appointment in the DOM department "
   ]
  },
  {
   "cell_type": "code",
   "execution_count": 682,
   "id": "9d1fe727",
   "metadata": {},
   "outputs": [
    {
     "data": {
      "image/png": "[encoded data removed]",
      "text/plain": [
       "<Figure size 432x288 with 1 Axes>"
      ]
     },
     "metadata": {
      "needs_background": "light"
     },
     "output_type": "display_data"
    }
   ],
   "source": [
    "df_dom['Disposition'].value_counts().plot(kind='bar',color='orange');\n",
    "plt.title('Dom Disposition')\n",
    "plt.xlabel('count');"
   ]
  },
  {
   "cell_type": "code",
   "execution_count": 480,
   "id": "32da7b98",
   "metadata": {
    "scrolled": true
   },
   "outputs": [
    {
     "data": {
      "text/plain": [
       "Inquiry        1336\n",
       "Request        1222\n",
       "Follow-up        28\n",
       "Non-Contact      10\n",
       "Feedback          9\n",
       "Complaint         3\n",
       "Name: Issue Category, dtype: int64"
      ]
     },
     "execution_count": 480,
     "metadata": {},
     "output_type": "execute_result"
    }
   ],
   "source": [
    "df_dom['Issue Category'].value_counts()"
   ]
  },
  {
   "cell_type": "markdown",
   "id": "73c0e2ad",
   "metadata": {},
   "source": [
    "Most people called for inquiry and request while few called to complain and give feedback"
   ]
  },
  {
   "cell_type": "code",
   "execution_count": 646,
   "id": "43235df3",
   "metadata": {},
   "outputs": [
    {
     "data": {
      "text/plain": [
       "Text(0, 0.5, 'count')"
      ]
     },
     "execution_count": 646,
     "metadata": {},
     "output_type": "execute_result"
    },
    {
     "data": {
      "image/png": "[encoded data removed]",
      "text/plain": [
       "<Figure size 432x288 with 1 Axes>"
      ]
     },
     "metadata": {
      "needs_background": "light"
     },
     "output_type": "display_data"
    }
   ],
   "source": [
    "df_dom['Issue Category'].value_counts().plot(kind='bar');\n",
    "plt.title('Issue Category in dom department')\n",
    "plt.ylabel('count')"
   ]
  },
  {
   "cell_type": "code",
   "execution_count": 615,
   "id": "338d25ad",
   "metadata": {},
   "outputs": [
    {
     "data": {
      "image/png": "[encoded data removed]",
      "text/plain": [
       "<Figure size 432x288 with 1 Axes>"
      ]
     },
     "metadata": {
      "needs_background": "light"
     },
     "output_type": "display_data"
    }
   ],
   "source": [
    "df_dom['day_of_the_week'].value_counts().plot(kind='bar',color='green')\n",
    "plt.title('Total calls in DOM made in the week days')\n",
    "plt.xlabel('Day of the week')\n",
    "plt.ylabel('count')\n",
    "plt.show()"
   ]
  },
  {
   "cell_type": "code",
   "execution_count": 616,
   "id": "9c26fdb0",
   "metadata": {},
   "outputs": [
    {
     "data": {
      "image/png": "[encoded data removed]",
      "text/plain": [
       "<Figure size 432x288 with 1 Axes>"
      ]
     },
     "metadata": {
      "needs_background": "light"
     },
     "output_type": "display_data"
    }
   ],
   "source": [
    "df_dom['day_of_the_month'].value_counts(sort = True).plot(kind='bar',color='green')\n",
    "plt.title('Calls made in DOM per day through out the month of May')\n",
    "plt.xlabel('Date of the month')\n",
    "plt.ylabel('count')\n",
    "plt.show()"
   ]
  },
  {
   "cell_type": "markdown",
   "id": "f397071c",
   "metadata": {},
   "source": [
    "## Issue Category"
   ]
  },
  {
   "cell_type": "markdown",
   "id": "e8fbf4b4",
   "metadata": {},
   "source": [
    "Dispositions within the issue category"
   ]
  },
  {
   "cell_type": "code",
   "execution_count": 485,
   "id": "de1373d4",
   "metadata": {},
   "outputs": [
    {
     "data": {
      "text/plain": [
       "Request        5540\n",
       "Inquiry        5353\n",
       "Follow-up       162\n",
       "Feedback         43\n",
       "Non-Contact      41\n",
       "Complaint        19\n",
       "Name: Issue Category, dtype: int64"
      ]
     },
     "execution_count": 485,
     "metadata": {},
     "output_type": "execute_result"
    }
   ],
   "source": [
    "df['Issue Category'].value_counts()"
   ]
  },
  {
   "cell_type": "code",
   "execution_count": 645,
   "id": "f89738e7",
   "metadata": {
    "scrolled": true
   },
   "outputs": [
    {
     "data": {
      "image/png": "[encoded data removed]",
      "text/plain": [
       "<Figure size 432x288 with 1 Axes>"
      ]
     },
     "metadata": {
      "needs_background": "light"
     },
     "output_type": "display_data"
    }
   ],
   "source": [
    "df['Issue Category'].value_counts().plot(kind='bar',color='brown');\n",
    "plt.title('Issue Category')\n",
    "plt.ylabel('count');"
   ]
  },
  {
   "cell_type": "markdown",
   "id": "4ed12474",
   "metadata": {},
   "source": [
    "**There were complaints?!**"
   ]
  },
  {
   "cell_type": "markdown",
   "id": "e9d13ed5",
   "metadata": {},
   "source": [
    "#### lets look at the complaints and know where they came from and directed to which department"
   ]
  },
  {
   "cell_type": "code",
   "execution_count": 536,
   "id": "a56cbe45",
   "metadata": {},
   "outputs": [],
   "source": [
    "df_issue_complaint = df[df['Issue Category']=='Complaint']"
   ]
  },
  {
   "cell_type": "code",
   "execution_count": 537,
   "id": "e163faae",
   "metadata": {},
   "outputs": [
    {
     "data": {
      "text/html": [
       "<div>\n",
       "<style scoped>\n",
       "    .dataframe tbody tr th:only-of-type {\n",
       "        vertical-align: middle;\n",
       "    }\n",
       "\n",
       "    .dataframe tbody tr th {\n",
       "        vertical-align: top;\n",
       "    }\n",
       "\n",
       "    .dataframe thead th {\n",
       "        text-align: right;\n",
       "    }\n",
       "</style>\n",
       "<table border=\"1\" class=\"dataframe\">\n",
       "  <thead>\n",
       "    <tr style=\"text-align: right;\">\n",
       "      <th></th>\n",
       "      <th>Issue Source</th>\n",
       "      <th>Issue Category</th>\n",
       "      <th>Disposition</th>\n",
       "      <th>Department</th>\n",
       "      <th>Date</th>\n",
       "      <th>Ticket Status</th>\n",
       "      <th>day_of_the_week</th>\n",
       "      <th>day_of_the_month</th>\n",
       "    </tr>\n",
       "  </thead>\n",
       "  <tbody>\n",
       "    <tr>\n",
       "      <th>473</th>\n",
       "      <td>VB</td>\n",
       "      <td>Complaint</td>\n",
       "      <td>Service Available</td>\n",
       "      <td>OUTREACH</td>\n",
       "      <td>2 May 2022</td>\n",
       "      <td>Closed</td>\n",
       "      <td>Monday</td>\n",
       "      <td>2022-05-02</td>\n",
       "    </tr>\n",
       "    <tr>\n",
       "      <th>587</th>\n",
       "      <td>VB</td>\n",
       "      <td>Complaint</td>\n",
       "      <td>Availability of doctors</td>\n",
       "      <td>DOM</td>\n",
       "      <td>2 May 2022</td>\n",
       "      <td>Closed</td>\n",
       "      <td>Monday</td>\n",
       "      <td>2022-05-02</td>\n",
       "    </tr>\n",
       "    <tr>\n",
       "      <th>1036</th>\n",
       "      <td>VB</td>\n",
       "      <td>Complaint</td>\n",
       "      <td>Admission</td>\n",
       "      <td>Non-Ward</td>\n",
       "      <td>3 May 2022</td>\n",
       "      <td>Closed</td>\n",
       "      <td>Tuesday</td>\n",
       "      <td>2022-05-03</td>\n",
       "    </tr>\n",
       "    <tr>\n",
       "      <th>1088</th>\n",
       "      <td>VB</td>\n",
       "      <td>Complaint</td>\n",
       "      <td>Prescription</td>\n",
       "      <td>Pharm</td>\n",
       "      <td>3 May 2022</td>\n",
       "      <td>Closed</td>\n",
       "      <td>Tuesday</td>\n",
       "      <td>2022-05-03</td>\n",
       "    </tr>\n",
       "    <tr>\n",
       "      <th>2476</th>\n",
       "      <td>VB</td>\n",
       "      <td>Complaint</td>\n",
       "      <td>availability of drugs</td>\n",
       "      <td>Pharm</td>\n",
       "      <td>4 May 2022</td>\n",
       "      <td>Closed</td>\n",
       "      <td>Wednesday</td>\n",
       "      <td>2022-05-04</td>\n",
       "    </tr>\n",
       "    <tr>\n",
       "      <th>2545</th>\n",
       "      <td>VB</td>\n",
       "      <td>Complaint</td>\n",
       "      <td>Appointment Clarification</td>\n",
       "      <td>HAEMATO-ONCOLOGY</td>\n",
       "      <td>5 May 2022</td>\n",
       "      <td>Closed</td>\n",
       "      <td>Thursday</td>\n",
       "      <td>2022-05-05</td>\n",
       "    </tr>\n",
       "    <tr>\n",
       "      <th>5965</th>\n",
       "      <td>VB</td>\n",
       "      <td>Complaint</td>\n",
       "      <td>Appointment Booking</td>\n",
       "      <td>DOM</td>\n",
       "      <td>9 May 2022</td>\n",
       "      <td>Closed</td>\n",
       "      <td>Monday</td>\n",
       "      <td>2022-05-09</td>\n",
       "    </tr>\n",
       "    <tr>\n",
       "      <th>6508</th>\n",
       "      <td>VO</td>\n",
       "      <td>Complaint</td>\n",
       "      <td>Service Available</td>\n",
       "      <td>OUTREACH</td>\n",
       "      <td>10 May 2022</td>\n",
       "      <td>Closed</td>\n",
       "      <td>Tuesday</td>\n",
       "      <td>2022-05-10</td>\n",
       "    </tr>\n",
       "    <tr>\n",
       "      <th>6528</th>\n",
       "      <td>VB</td>\n",
       "      <td>Complaint</td>\n",
       "      <td>Service Available</td>\n",
       "      <td>OUTREACH</td>\n",
       "      <td>10 May 2022</td>\n",
       "      <td>Closed</td>\n",
       "      <td>Tuesday</td>\n",
       "      <td>2022-05-10</td>\n",
       "    </tr>\n",
       "    <tr>\n",
       "      <th>7112</th>\n",
       "      <td>VB</td>\n",
       "      <td>Complaint</td>\n",
       "      <td>Availability of doctors</td>\n",
       "      <td>Operation</td>\n",
       "      <td>10 May 2022</td>\n",
       "      <td>Closed</td>\n",
       "      <td>Tuesday</td>\n",
       "      <td>2022-05-10</td>\n",
       "    </tr>\n",
       "    <tr>\n",
       "      <th>9380</th>\n",
       "      <td>VO</td>\n",
       "      <td>Complaint</td>\n",
       "      <td>Availability of doctors</td>\n",
       "      <td>Paedi</td>\n",
       "      <td>12 May 2022</td>\n",
       "      <td>Closed</td>\n",
       "      <td>Thursday</td>\n",
       "      <td>2022-05-12</td>\n",
       "    </tr>\n",
       "    <tr>\n",
       "      <th>9751</th>\n",
       "      <td>VO</td>\n",
       "      <td>Complaint</td>\n",
       "      <td>Service Available</td>\n",
       "      <td>OUTREACH</td>\n",
       "      <td>13 May 2022</td>\n",
       "      <td>Closed</td>\n",
       "      <td>Friday</td>\n",
       "      <td>2022-05-13</td>\n",
       "    </tr>\n",
       "    <tr>\n",
       "      <th>9754</th>\n",
       "      <td>VB</td>\n",
       "      <td>Complaint</td>\n",
       "      <td>Service Available</td>\n",
       "      <td>OUTREACH</td>\n",
       "      <td>13 May 2022</td>\n",
       "      <td>Closed</td>\n",
       "      <td>Friday</td>\n",
       "      <td>2022-05-13</td>\n",
       "    </tr>\n",
       "    <tr>\n",
       "      <th>10315</th>\n",
       "      <td>VB</td>\n",
       "      <td>Complaint</td>\n",
       "      <td>Service Available</td>\n",
       "      <td>OUTREACH</td>\n",
       "      <td>13 May 2022</td>\n",
       "      <td>Closed</td>\n",
       "      <td>Friday</td>\n",
       "      <td>2022-05-13</td>\n",
       "    </tr>\n",
       "    <tr>\n",
       "      <th>10501</th>\n",
       "      <td>VB</td>\n",
       "      <td>Complaint</td>\n",
       "      <td>Availability of doctors</td>\n",
       "      <td>OBS/GYNAE</td>\n",
       "      <td>14 May 2022</td>\n",
       "      <td>Closed</td>\n",
       "      <td>Saturday</td>\n",
       "      <td>2022-05-14</td>\n",
       "    </tr>\n",
       "    <tr>\n",
       "      <th>10530</th>\n",
       "      <td>VB</td>\n",
       "      <td>Complaint</td>\n",
       "      <td>Housekeeping</td>\n",
       "      <td>Non-Med</td>\n",
       "      <td>14 May 2022</td>\n",
       "      <td>Closed</td>\n",
       "      <td>Saturday</td>\n",
       "      <td>2022-05-14</td>\n",
       "    </tr>\n",
       "    <tr>\n",
       "      <th>10605</th>\n",
       "      <td>VB</td>\n",
       "      <td>Complaint</td>\n",
       "      <td>Discharge</td>\n",
       "      <td>Non-Ward</td>\n",
       "      <td>14 May 2022</td>\n",
       "      <td>Closed</td>\n",
       "      <td>Saturday</td>\n",
       "      <td>2022-05-14</td>\n",
       "    </tr>\n",
       "    <tr>\n",
       "      <th>10660</th>\n",
       "      <td>VB</td>\n",
       "      <td>Complaint</td>\n",
       "      <td>Discharge</td>\n",
       "      <td>Non-Ward</td>\n",
       "      <td>14 May 2022</td>\n",
       "      <td>Closed</td>\n",
       "      <td>Saturday</td>\n",
       "      <td>2022-05-14</td>\n",
       "    </tr>\n",
       "    <tr>\n",
       "      <th>12790</th>\n",
       "      <td>VB</td>\n",
       "      <td>Complaint</td>\n",
       "      <td>Appointment Clarification</td>\n",
       "      <td>DOM</td>\n",
       "      <td>17 May 2022</td>\n",
       "      <td>Closed</td>\n",
       "      <td>Tuesday</td>\n",
       "      <td>2022-05-17</td>\n",
       "    </tr>\n",
       "  </tbody>\n",
       "</table>\n",
       "</div>"
      ],
      "text/plain": [
       "      Issue Source Issue Category                Disposition  \\\n",
       "473             VB      Complaint          Service Available   \n",
       "587             VB      Complaint    Availability of doctors   \n",
       "1036            VB      Complaint                  Admission   \n",
       "1088            VB      Complaint               Prescription   \n",
       "2476            VB      Complaint      availability of drugs   \n",
       "2545            VB      Complaint  Appointment Clarification   \n",
       "5965            VB      Complaint        Appointment Booking   \n",
       "6508            VO      Complaint          Service Available   \n",
       "6528            VB      Complaint          Service Available   \n",
       "7112            VB      Complaint    Availability of doctors   \n",
       "9380            VO      Complaint    Availability of doctors   \n",
       "9751            VO      Complaint          Service Available   \n",
       "9754            VB      Complaint          Service Available   \n",
       "10315           VB      Complaint          Service Available   \n",
       "10501           VB      Complaint    Availability of doctors   \n",
       "10530           VB      Complaint               Housekeeping   \n",
       "10605           VB      Complaint                  Discharge   \n",
       "10660           VB      Complaint                  Discharge   \n",
       "12790           VB      Complaint  Appointment Clarification   \n",
       "\n",
       "             Department        Date  Ticket Status day_of_the_week  \\\n",
       "473            OUTREACH   2 May 2022        Closed          Monday   \n",
       "587                 DOM   2 May 2022        Closed          Monday   \n",
       "1036           Non-Ward   3 May 2022        Closed         Tuesday   \n",
       "1088              Pharm   3 May 2022        Closed         Tuesday   \n",
       "2476              Pharm   4 May 2022        Closed       Wednesday   \n",
       "2545   HAEMATO-ONCOLOGY   5 May 2022        Closed        Thursday   \n",
       "5965                DOM   9 May 2022        Closed          Monday   \n",
       "6508           OUTREACH  10 May 2022        Closed         Tuesday   \n",
       "6528           OUTREACH  10 May 2022        Closed         Tuesday   \n",
       "7112          Operation  10 May 2022        Closed         Tuesday   \n",
       "9380              Paedi  12 May 2022        Closed        Thursday   \n",
       "9751           OUTREACH  13 May 2022        Closed          Friday   \n",
       "9754           OUTREACH  13 May 2022        Closed          Friday   \n",
       "10315          OUTREACH  13 May 2022        Closed          Friday   \n",
       "10501         OBS/GYNAE  14 May 2022        Closed        Saturday   \n",
       "10530           Non-Med  14 May 2022        Closed        Saturday   \n",
       "10605          Non-Ward  14 May 2022        Closed        Saturday   \n",
       "10660          Non-Ward  14 May 2022        Closed        Saturday   \n",
       "12790               DOM  17 May 2022        Closed         Tuesday   \n",
       "\n",
       "      day_of_the_month  \n",
       "473         2022-05-02  \n",
       "587         2022-05-02  \n",
       "1036        2022-05-03  \n",
       "1088        2022-05-03  \n",
       "2476        2022-05-04  \n",
       "2545        2022-05-05  \n",
       "5965        2022-05-09  \n",
       "6508        2022-05-10  \n",
       "6528        2022-05-10  \n",
       "7112        2022-05-10  \n",
       "9380        2022-05-12  \n",
       "9751        2022-05-13  \n",
       "9754        2022-05-13  \n",
       "10315       2022-05-13  \n",
       "10501       2022-05-14  \n",
       "10530       2022-05-14  \n",
       "10605       2022-05-14  \n",
       "10660       2022-05-14  \n",
       "12790       2022-05-17  "
      ]
     },
     "execution_count": 537,
     "metadata": {},
     "output_type": "execute_result"
    }
   ],
   "source": [
    "df_issue_complaint"
   ]
  },
  {
   "cell_type": "code",
   "execution_count": 538,
   "id": "83b3e883",
   "metadata": {
    "scrolled": true
   },
   "outputs": [
    {
     "data": {
      "text/plain": [
       "OUTREACH            6\n",
       "DOM                 3\n",
       "Non-Ward            3\n",
       "Pharm               2\n",
       "Operation           1\n",
       "Non-Med             1\n",
       "Paedi               1\n",
       "OBS/GYNAE           1\n",
       "HAEMATO-ONCOLOGY    1\n",
       "Name: Department, dtype: int64"
      ]
     },
     "execution_count": 538,
     "metadata": {},
     "output_type": "execute_result"
    }
   ],
   "source": [
    "df_issue_complaint['Department'].value_counts()"
   ]
  },
  {
   "cell_type": "markdown",
   "id": "7a4a840c",
   "metadata": {},
   "source": [
    "**OUTREACH department received most of the complains**"
   ]
  },
  {
   "cell_type": "markdown",
   "id": "d5622978",
   "metadata": {},
   "source": [
    "visual representation"
   ]
  },
  {
   "cell_type": "code",
   "execution_count": 644,
   "id": "eb3f52ee",
   "metadata": {
    "scrolled": true
   },
   "outputs": [
    {
     "data": {
      "image/png": "[encoded data removed]",
      "text/plain": [
       "<Figure size 432x288 with 1 Axes>"
      ]
     },
     "metadata": {
      "needs_background": "light"
     },
     "output_type": "display_data"
    }
   ],
   "source": [
    "df_issue_complaint['Department'].value_counts().plot(kind = 'bar')\n",
    "plt.title('Departmental complaints')\n",
    "plt.ylabel('count');"
   ]
  },
  {
   "cell_type": "markdown",
   "id": "220eaf6c",
   "metadata": {},
   "source": [
    "Dates in which the complaints where made"
   ]
  },
  {
   "cell_type": "code",
   "execution_count": 643,
   "id": "c0d1a814",
   "metadata": {},
   "outputs": [
    {
     "data": {
      "image/png": "[encoded data removed]",
      "text/plain": [
       "<Figure size 432x288 with 1 Axes>"
      ]
     },
     "metadata": {
      "needs_background": "light"
     },
     "output_type": "display_data"
    }
   ],
   "source": [
    "sns.countplot(x='day_of_the_week', data =df_issue_complaint)\n",
    "plt.title('Total calls with complains made within the week days')\n",
    "plt.xticks(rotation=90);"
   ]
  },
  {
   "cell_type": "code",
   "execution_count": 618,
   "id": "80bdd7c7",
   "metadata": {
    "scrolled": true
   },
   "outputs": [
    {
     "data": {
      "image/png": "[encoded data removed]",
      "text/plain": [
       "<Figure size 432x288 with 1 Axes>"
      ]
     },
     "metadata": {
      "needs_background": "light"
     },
     "output_type": "display_data"
    }
   ],
   "source": [
    "#sorted\n",
    "df_issue_complaint['day_of_the_week'].value_counts().plot(kind='bar',color='green')\n",
    "plt.title('Total calls with complains made in week days')\n",
    "plt.xlabel('Day of the week')\n",
    "plt.ylabel('count')\n",
    "plt.show()"
   ]
  },
  {
   "cell_type": "markdown",
   "id": "db2f6651",
   "metadata": {},
   "source": [
    "**most complains were made on Tuesdays**"
   ]
  },
  {
   "cell_type": "markdown",
   "id": "8e12fce8",
   "metadata": {},
   "source": [
    "No complains where made on sunday"
   ]
  },
  {
   "cell_type": "markdown",
   "id": "ad0590fa",
   "metadata": {},
   "source": [
    "**Date in which the complains where made**"
   ]
  },
  {
   "cell_type": "code",
   "execution_count": 642,
   "id": "a71feb76",
   "metadata": {},
   "outputs": [
    {
     "data": {
      "image/png": "[encoded data removed]",
      "text/plain": [
       "<Figure size 432x288 with 1 Axes>"
      ]
     },
     "metadata": {
      "needs_background": "light"
     },
     "output_type": "display_data"
    }
   ],
   "source": [
    "df_issue_complaint['day_of_the_month'].value_counts(sort = True).plot(kind='bar',color='green')\n",
    "plt.title('Complains made per day through out the month of May')\n",
    "plt.xlabel('Date of the month')\n",
    "plt.ylabel('count')\n",
    "plt.show()"
   ]
  },
  {
   "cell_type": "markdown",
   "id": "bfe44eef",
   "metadata": {},
   "source": [
    "most complaints where made on 14th "
   ]
  },
  {
   "cell_type": "code",
   "execution_count": null,
   "id": "e6dad6b9",
   "metadata": {},
   "outputs": [],
   "source": []
  },
  {
   "cell_type": "markdown",
   "id": "b6723f38",
   "metadata": {},
   "source": [
    "lets see the disposition of the calls with complaints"
   ]
  },
  {
   "cell_type": "code",
   "execution_count": 498,
   "id": "a78181a9",
   "metadata": {
    "scrolled": true
   },
   "outputs": [
    {
     "data": {
      "text/plain": [
       "Service Available            6\n",
       "Availability of doctors      4\n",
       "Appointment Clarification    2\n",
       "Discharge                    2\n",
       "Housekeeping                 1\n",
       "Prescription                 1\n",
       "Appointment Booking          1\n",
       "availability of drugs        1\n",
       "Admission                    1\n",
       "Name: Disposition, dtype: int64"
      ]
     },
     "execution_count": 498,
     "metadata": {},
     "output_type": "execute_result"
    }
   ],
   "source": [
    "df_issue_complaint['Disposition'].value_counts()"
   ]
  },
  {
   "cell_type": "markdown",
   "id": "e08ffcfe",
   "metadata": {},
   "source": [
    "**Most complains where about service availability and availability of doctors**"
   ]
  },
  {
   "cell_type": "markdown",
   "id": "d550207d",
   "metadata": {},
   "source": [
    "visual representation"
   ]
  },
  {
   "cell_type": "code",
   "execution_count": 641,
   "id": "24cc57d3",
   "metadata": {
    "scrolled": true
   },
   "outputs": [
    {
     "data": {
      "image/png": "[encoded data removed]",
      "text/plain": [
       "<Figure size 432x288 with 1 Axes>"
      ]
     },
     "metadata": {
      "needs_background": "light"
     },
     "output_type": "display_data"
    }
   ],
   "source": [
    "df_issue_complaint['Disposition'].value_counts().plot(kind='bar')\n",
    "plt.title('Complaint Disposition')\n",
    "plt.ylabel('count');"
   ]
  },
  {
   "cell_type": "markdown",
   "id": "5e33059b",
   "metadata": {},
   "source": [
    "complaints issue source"
   ]
  },
  {
   "cell_type": "code",
   "execution_count": 640,
   "id": "031ff7c8",
   "metadata": {
    "scrolled": true
   },
   "outputs": [
    {
     "data": {
      "image/png": "[encoded data removed]",
      "text/plain": [
       "<Figure size 432x288 with 1 Axes>"
      ]
     },
     "metadata": {
      "needs_background": "light"
     },
     "output_type": "display_data"
    }
   ],
   "source": [
    "df_issue_complaint['Issue Source'].value_counts().plot(kind='bar')\n",
    "plt.title('Issue Source')\n",
    "plt.ylabel('count');"
   ]
  },
  {
   "cell_type": "markdown",
   "id": "91656946",
   "metadata": {},
   "source": [
    "most complaints there sorce was VB"
   ]
  },
  {
   "cell_type": "markdown",
   "id": "b834b166",
   "metadata": {},
   "source": [
    "Ticket status of the complaint"
   ]
  },
  {
   "cell_type": "code",
   "execution_count": 639,
   "id": "f151e272",
   "metadata": {},
   "outputs": [
    {
     "data": {
      "image/png": "[encoded data removed]",
      "text/plain": [
       "<Figure size 432x288 with 1 Axes>"
      ]
     },
     "metadata": {
      "needs_background": "light"
     },
     "output_type": "display_data"
    }
   ],
   "source": [
    "df_issue_complaint['Ticket Status'].value_counts().plot(kind='bar')\n",
    "plt.title('Ticket status');"
   ]
  },
  {
   "cell_type": "markdown",
   "id": "fd625071",
   "metadata": {},
   "source": [
    "All complaints there tickets where closed"
   ]
  },
  {
   "cell_type": "markdown",
   "id": "6debf410",
   "metadata": {},
   "source": [
    "**Feedback**"
   ]
  },
  {
   "cell_type": "markdown",
   "id": "0662480b",
   "metadata": {},
   "source": [
    "**lets see departments that received feedback**"
   ]
  },
  {
   "cell_type": "code",
   "execution_count": 507,
   "id": "18e56c0d",
   "metadata": {},
   "outputs": [],
   "source": [
    "df_feedback = df[df['Issue Category']=='Feedback']"
   ]
  },
  {
   "cell_type": "code",
   "execution_count": 510,
   "id": "c3499369",
   "metadata": {},
   "outputs": [
    {
     "data": {
      "text/html": [
       "<div>\n",
       "<style scoped>\n",
       "    .dataframe tbody tr th:only-of-type {\n",
       "        vertical-align: middle;\n",
       "    }\n",
       "\n",
       "    .dataframe tbody tr th {\n",
       "        vertical-align: top;\n",
       "    }\n",
       "\n",
       "    .dataframe thead th {\n",
       "        text-align: right;\n",
       "    }\n",
       "</style>\n",
       "<table border=\"1\" class=\"dataframe\">\n",
       "  <thead>\n",
       "    <tr style=\"text-align: right;\">\n",
       "      <th></th>\n",
       "      <th>Issue Source</th>\n",
       "      <th>Issue Category</th>\n",
       "      <th>Disposition</th>\n",
       "      <th>Department</th>\n",
       "      <th>Date</th>\n",
       "      <th>Ticket Status</th>\n",
       "      <th>day_of_the_week</th>\n",
       "      <th>day_of_the_month</th>\n",
       "    </tr>\n",
       "  </thead>\n",
       "  <tbody>\n",
       "    <tr>\n",
       "      <th>58</th>\n",
       "      <td>VO</td>\n",
       "      <td>Feedback</td>\n",
       "      <td>Prescription</td>\n",
       "      <td>Pharm</td>\n",
       "      <td>1 May 2022</td>\n",
       "      <td>Open</td>\n",
       "      <td>Sunday</td>\n",
       "      <td>2022-05-01</td>\n",
       "    </tr>\n",
       "    <tr>\n",
       "      <th>67</th>\n",
       "      <td>VB</td>\n",
       "      <td>Feedback</td>\n",
       "      <td>Walk-in</td>\n",
       "      <td>FMC</td>\n",
       "      <td>1 May 2022</td>\n",
       "      <td>Open</td>\n",
       "      <td>Sunday</td>\n",
       "      <td>2022-05-01</td>\n",
       "    </tr>\n",
       "    <tr>\n",
       "      <th>2429</th>\n",
       "      <td>VO</td>\n",
       "      <td>Feedback</td>\n",
       "      <td>Appointment Clarification</td>\n",
       "      <td>Paedi</td>\n",
       "      <td>4 May 2022</td>\n",
       "      <td>Closed</td>\n",
       "      <td>Wednesday</td>\n",
       "      <td>2022-05-04</td>\n",
       "    </tr>\n",
       "    <tr>\n",
       "      <th>2562</th>\n",
       "      <td>VO</td>\n",
       "      <td>Feedback</td>\n",
       "      <td>Availability of doctors</td>\n",
       "      <td>Operation</td>\n",
       "      <td>5 May 2022</td>\n",
       "      <td>Closed</td>\n",
       "      <td>Thursday</td>\n",
       "      <td>2022-05-05</td>\n",
       "    </tr>\n",
       "    <tr>\n",
       "      <th>3481</th>\n",
       "      <td>VO</td>\n",
       "      <td>Feedback</td>\n",
       "      <td>Appointment Clarification</td>\n",
       "      <td>OBS/GYNAE</td>\n",
       "      <td>5 May 2022</td>\n",
       "      <td>Closed</td>\n",
       "      <td>Thursday</td>\n",
       "      <td>2022-05-05</td>\n",
       "    </tr>\n",
       "  </tbody>\n",
       "</table>\n",
       "</div>"
      ],
      "text/plain": [
       "     Issue Source Issue Category                Disposition Department  \\\n",
       "58             VO       Feedback               Prescription      Pharm   \n",
       "67             VB       Feedback                    Walk-in        FMC   \n",
       "2429           VO       Feedback  Appointment Clarification      Paedi   \n",
       "2562           VO       Feedback    Availability of doctors  Operation   \n",
       "3481           VO       Feedback  Appointment Clarification  OBS/GYNAE   \n",
       "\n",
       "           Date  Ticket Status day_of_the_week day_of_the_month  \n",
       "58    1 May 2022          Open          Sunday       2022-05-01  \n",
       "67    1 May 2022          Open          Sunday       2022-05-01  \n",
       "2429  4 May 2022        Closed       Wednesday       2022-05-04  \n",
       "2562  5 May 2022        Closed        Thursday       2022-05-05  \n",
       "3481  5 May 2022        Closed        Thursday       2022-05-05  "
      ]
     },
     "execution_count": 510,
     "metadata": {},
     "output_type": "execute_result"
    }
   ],
   "source": [
    "df_feedback.head()"
   ]
  },
  {
   "cell_type": "code",
   "execution_count": 511,
   "id": "a8229cfd",
   "metadata": {},
   "outputs": [
    {
     "data": {
      "text/plain": [
       "DOM              9\n",
       "Operation        7\n",
       "OBS/GYNAE        7\n",
       "Paedi            4\n",
       "Radio            3\n",
       "OUTREACH         3\n",
       "Pharm            2\n",
       "LAB              2\n",
       "CASUALTY         2\n",
       "FMC              2\n",
       "Non-Med          1\n",
       "PHYSIOTHERAPY    1\n",
       "Name: Department, dtype: int64"
      ]
     },
     "execution_count": 511,
     "metadata": {},
     "output_type": "execute_result"
    }
   ],
   "source": [
    "df_feedback['Department'].value_counts()"
   ]
  },
  {
   "cell_type": "code",
   "execution_count": 638,
   "id": "5e20dbd2",
   "metadata": {},
   "outputs": [
    {
     "data": {
      "image/png": "[encoded data removed]",
      "text/plain": [
       "<Figure size 432x288 with 1 Axes>"
      ]
     },
     "metadata": {
      "needs_background": "light"
     },
     "output_type": "display_data"
    }
   ],
   "source": [
    "df_feedback['Department'].value_counts().plot(kind='bar')\n",
    "plt.title('Departmental feedback')\n",
    "plt.ylabel('count');"
   ]
  },
  {
   "cell_type": "markdown",
   "id": "1326a656",
   "metadata": {},
   "source": [
    "DOM, operation and OBS/GYNAE departments received most feedbacks"
   ]
  },
  {
   "cell_type": "markdown",
   "id": "0e0c2d71",
   "metadata": {},
   "source": [
    "Which Dispositions gave most feedbacks"
   ]
  },
  {
   "cell_type": "code",
   "execution_count": 636,
   "id": "418145a6",
   "metadata": {},
   "outputs": [
    {
     "data": {
      "image/png": "[encoded data removed]",
      "text/plain": [
       "<Figure size 864x576 with 1 Axes>"
      ]
     },
     "metadata": {
      "needs_background": "light"
     },
     "output_type": "display_data"
    }
   ],
   "source": [
    "plt.figure(figsize=(12,8))\n",
    "sns.countplot(x='Disposition',data = df_feedback)\n",
    "plt.title('Feedback Disposition')\n",
    "plt.xticks(rotation=90);"
   ]
  },
  {
   "cell_type": "code",
   "execution_count": 637,
   "id": "2363d206",
   "metadata": {},
   "outputs": [
    {
     "data": {
      "image/png": "[encoded data removed]",
      "text/plain": [
       "<Figure size 432x288 with 1 Axes>"
      ]
     },
     "metadata": {
      "needs_background": "light"
     },
     "output_type": "display_data"
    }
   ],
   "source": [
    "#sorted\n",
    "df_feedback['Disposition'].value_counts().plot(kind='bar')\n",
    "plt.title('Feedback Disposition')\n",
    "plt.ylabel('count');"
   ]
  },
  {
   "cell_type": "markdown",
   "id": "87f159e9",
   "metadata": {},
   "source": [
    "Most feedback came from dispositions about Appointment clarification and Availability of doctors"
   ]
  },
  {
   "cell_type": "markdown",
   "id": "51d63caa",
   "metadata": {},
   "source": [
    "weekdays in which most feedbacks where made?"
   ]
  },
  {
   "cell_type": "code",
   "execution_count": 633,
   "id": "0b5ac679",
   "metadata": {},
   "outputs": [
    {
     "data": {
      "image/png": "[encoded data removed]",
      "text/plain": [
       "<Figure size 432x288 with 1 Axes>"
      ]
     },
     "metadata": {
      "needs_background": "light"
     },
     "output_type": "display_data"
    }
   ],
   "source": [
    "sns.countplot(x='day_of_the_week',data = df_feedback)\n",
    "plt.title('Feedbacks made within the weekdays')\n",
    "plt.xticks(rotation=90);"
   ]
  },
  {
   "cell_type": "code",
   "execution_count": 635,
   "id": "3e5e0ec2",
   "metadata": {},
   "outputs": [
    {
     "data": {
      "image/png": "[encoded data removed]",
      "text/plain": [
       "<Figure size 432x288 with 1 Axes>"
      ]
     },
     "metadata": {
      "needs_background": "light"
     },
     "output_type": "display_data"
    }
   ],
   "source": [
    "df_feedback['day_of_the_week'].value_counts().plot(kind='bar')\n",
    "plt.title('Feedbacks made within the weekdays')\n",
    "plt.ylabel('count');"
   ]
  },
  {
   "cell_type": "markdown",
   "id": "279ba5dc",
   "metadata": {},
   "source": [
    "Most Feedbacks where made on Tuesday"
   ]
  },
  {
   "cell_type": "code",
   "execution_count": null,
   "id": "8618bd6b",
   "metadata": {},
   "outputs": [],
   "source": []
  },
  {
   "cell_type": "markdown",
   "id": "43360116",
   "metadata": {},
   "source": [
    "## Issue Source"
   ]
  },
  {
   "cell_type": "code",
   "execution_count": 549,
   "id": "1114e321",
   "metadata": {},
   "outputs": [
    {
     "data": {
      "text/plain": [
       "VB    9268\n",
       "VO    1888\n",
       "Em       1\n",
       "SM       1\n",
       "Name: Issue Source, dtype: int64"
      ]
     },
     "execution_count": 549,
     "metadata": {},
     "output_type": "execute_result"
    }
   ],
   "source": [
    "df['Issue Source'].value_counts()"
   ]
  },
  {
   "cell_type": "code",
   "execution_count": 632,
   "id": "a488bbee",
   "metadata": {
    "scrolled": false
   },
   "outputs": [
    {
     "data": {
      "image/png": "[encoded data removed]",
      "text/plain": [
       "<Figure size 432x288 with 1 Axes>"
      ]
     },
     "metadata": {
      "needs_background": "light"
     },
     "output_type": "display_data"
    }
   ],
   "source": [
    "sns.countplot(x = 'Issue Source',data = df)\n",
    "plt.title('Issue Source');"
   ]
  },
  {
   "cell_type": "markdown",
   "id": "197bad54",
   "metadata": {},
   "source": [
    "Most calls there issue source was VB"
   ]
  },
  {
   "cell_type": "markdown",
   "id": "a844a864",
   "metadata": {},
   "source": [
    "## Ticket Status"
   ]
  },
  {
   "cell_type": "code",
   "execution_count": 547,
   "id": "d2eaf707",
   "metadata": {},
   "outputs": [
    {
     "data": {
      "text/plain": [
       "Closed        10905\n",
       "Open            158\n",
       "Resolved         73\n",
       "Unresolved       22\n",
       "Name: Ticket Status, dtype: int64"
      ]
     },
     "execution_count": 547,
     "metadata": {},
     "output_type": "execute_result"
    }
   ],
   "source": [
    "df['Ticket Status'].value_counts()"
   ]
  },
  {
   "cell_type": "code",
   "execution_count": 631,
   "id": "c34047c7",
   "metadata": {},
   "outputs": [
    {
     "data": {
      "image/png": "[encoded data removed]",
      "text/plain": [
       "<Figure size 432x288 with 1 Axes>"
      ]
     },
     "metadata": {
      "needs_background": "light"
     },
     "output_type": "display_data"
    }
   ],
   "source": [
    "sns.countplot(x = 'Ticket Status',data = df)\n",
    "plt.title('Ticket status');"
   ]
  },
  {
   "cell_type": "markdown",
   "id": "33ef4642",
   "metadata": {},
   "source": [
    "Most tickets where closed. Meaning most cases where solved."
   ]
  },
  {
   "cell_type": "markdown",
   "id": "200f47f1",
   "metadata": {},
   "source": [
    "**lets analyze the open and unresolved ones**"
   ]
  },
  {
   "cell_type": "markdown",
   "id": "c70849cb",
   "metadata": {},
   "source": [
    "**Open Tickets**"
   ]
  },
  {
   "cell_type": "code",
   "execution_count": 566,
   "id": "e78bfe29",
   "metadata": {},
   "outputs": [],
   "source": [
    "df_open_tickets = df[df['Ticket Status'] == 'Open']"
   ]
  },
  {
   "cell_type": "markdown",
   "id": "caa12127",
   "metadata": {},
   "source": [
    "Departments where tickets were open"
   ]
  },
  {
   "cell_type": "code",
   "execution_count": 568,
   "id": "adf9477e",
   "metadata": {},
   "outputs": [
    {
     "data": {
      "text/plain": [
       "LAB                29\n",
       "Pharm              19\n",
       "Radio              17\n",
       "Non-Med            13\n",
       "Non-Ward           12\n",
       "DOM                12\n",
       "OUTREACH           12\n",
       "Operation          11\n",
       "OBS/GYNAE           9\n",
       "FINANCE             7\n",
       "Paedi               6\n",
       "CASUALTY            6\n",
       "FMC                 3\n",
       "HUMAN RESOURCE      1\n",
       "FAMILY MEDICINE     1\n",
       "Name: Department, dtype: int64"
      ]
     },
     "execution_count": 568,
     "metadata": {},
     "output_type": "execute_result"
    }
   ],
   "source": [
    "df_open_tickets['Department'].value_counts()"
   ]
  },
  {
   "cell_type": "code",
   "execution_count": 630,
   "id": "ab241482",
   "metadata": {},
   "outputs": [
    {
     "data": {
      "image/png": "[encoded data removed]",
      "text/plain": [
       "<Figure size 720x576 with 1 Axes>"
      ]
     },
     "metadata": {
      "needs_background": "light"
     },
     "output_type": "display_data"
    }
   ],
   "source": [
    "plt.figure(figsize=(10,8))\n",
    "sns.countplot(x='Department',data = df_open_tickets, order = df_open_tickets['Department'].value_counts().index )\n",
    "plt.title('Departments with open tickets')\n",
    "plt.xticks(rotation=90);"
   ]
  },
  {
   "cell_type": "markdown",
   "id": "bb72dd32",
   "metadata": {},
   "source": [
    "lab, pharm, radio department had most open tickets"
   ]
  },
  {
   "cell_type": "markdown",
   "id": "1ef2a0be",
   "metadata": {},
   "source": [
    "**Unresolved tickets**"
   ]
  },
  {
   "cell_type": "code",
   "execution_count": 548,
   "id": "409b32e6",
   "metadata": {},
   "outputs": [],
   "source": [
    "df_unresolved_tickets = df[df['Ticket Status'] == 'Unresolved']"
   ]
  },
  {
   "cell_type": "markdown",
   "id": "24042609",
   "metadata": {},
   "source": [
    "Departments with unresolved tickets?"
   ]
  },
  {
   "cell_type": "code",
   "execution_count": 550,
   "id": "65b036dd",
   "metadata": {},
   "outputs": [
    {
     "data": {
      "text/plain": [
       "OBS/GYNAE           5\n",
       "DOM                 4\n",
       "Paedi               4\n",
       "LAB                 2\n",
       "PROCEDURES          1\n",
       "Non-Med             1\n",
       "FMC                 1\n",
       "Operation           1\n",
       "OUTREACH            1\n",
       "PHYSIOTHERAPY       1\n",
       "HAEMATO-ONCOLOGY    1\n",
       "Name: Department, dtype: int64"
      ]
     },
     "execution_count": 550,
     "metadata": {},
     "output_type": "execute_result"
    }
   ],
   "source": [
    "df_unresolved_tickets['Department'].value_counts()"
   ]
  },
  {
   "cell_type": "code",
   "execution_count": 629,
   "id": "b1c4c05e",
   "metadata": {},
   "outputs": [
    {
     "data": {
      "image/png": "[encoded data removed]",
      "text/plain": [
       "<Figure size 720x576 with 1 Axes>"
      ]
     },
     "metadata": {
      "needs_background": "light"
     },
     "output_type": "display_data"
    }
   ],
   "source": [
    "plt.figure(figsize=(10,8))\n",
    "sns.countplot(x='Department',data = df_unresolved_tickets)\n",
    "plt.title('Departments with unresolved tickets')\n",
    "plt.xticks(rotation=90);"
   ]
  },
  {
   "cell_type": "markdown",
   "id": "9cc93aa0",
   "metadata": {},
   "source": [
    "OBS/GYNAE department had Most unresolved tickets"
   ]
  },
  {
   "cell_type": "markdown",
   "id": "c263d724",
   "metadata": {},
   "source": [
    "Dispositions with unresolved tickets?"
   ]
  },
  {
   "cell_type": "code",
   "execution_count": 564,
   "id": "7c490fa5",
   "metadata": {},
   "outputs": [
    {
     "data": {
      "text/plain": [
       "Availability of doctors      11\n",
       "Appointment Clarification     4\n",
       "Appointment Booking           2\n",
       "Tests                         2\n",
       "Operating Hours               1\n",
       "Housekeeping                  1\n",
       "Pricing                       1\n",
       "Name: Disposition, dtype: int64"
      ]
     },
     "execution_count": 564,
     "metadata": {},
     "output_type": "execute_result"
    }
   ],
   "source": [
    "df_unresolved_tickets['Disposition'].value_counts()"
   ]
  },
  {
   "cell_type": "code",
   "execution_count": 628,
   "id": "a9a52188",
   "metadata": {},
   "outputs": [
    {
     "data": {
      "image/png": "[encoded data removed]",
      "text/plain": [
       "<Figure size 720x576 with 1 Axes>"
      ]
     },
     "metadata": {
      "needs_background": "light"
     },
     "output_type": "display_data"
    }
   ],
   "source": [
    "plt.figure(figsize=(10,8))\n",
    "sns.countplot(x='Disposition',data = df_unresolved_tickets)\n",
    "plt.title('Disposition with unresolved tickets')\n",
    "plt.xticks(rotation=90);"
   ]
  },
  {
   "cell_type": "markdown",
   "id": "8927fd89",
   "metadata": {},
   "source": [
    "Dispositions with unresolved tickets mostly where about Availability of Doctors"
   ]
  },
  {
   "cell_type": "code",
   "execution_count": null,
   "id": "516f9893",
   "metadata": {},
   "outputs": [],
   "source": []
  },
  {
   "cell_type": "markdown",
   "id": "64fc2abb",
   "metadata": {},
   "source": [
    "# More into Dispositions and Departments"
   ]
  },
  {
   "cell_type": "markdown",
   "id": "f2210d1d",
   "metadata": {},
   "source": [
    "Apppointment Clarification"
   ]
  },
  {
   "cell_type": "code",
   "execution_count": 621,
   "id": "20583ed9",
   "metadata": {},
   "outputs": [],
   "source": [
    "df_appointment_inquiry = df[df['Disposition']=='Appointment Clarification']"
   ]
  },
  {
   "cell_type": "code",
   "execution_count": 622,
   "id": "d2929bce",
   "metadata": {},
   "outputs": [
    {
     "data": {
      "image/png": "[encoded data removed]",
      "text/plain": [
       "<Figure size 720x576 with 1 Axes>"
      ]
     },
     "metadata": {
      "needs_background": "light"
     },
     "output_type": "display_data"
    }
   ],
   "source": [
    "plt.figure(figsize=(10,8))\n",
    "sns.countplot(x='Department',data = df_appointment_inquiry, order = df_appointment_inquiry['Department'].value_counts().index )\n",
    "plt.title('Appointment Clarification')\n",
    "plt.xticks(rotation=90);"
   ]
  },
  {
   "cell_type": "markdown",
   "id": "a825457c",
   "metadata": {},
   "source": [
    "Radio Department Received most appoint ment clarification"
   ]
  },
  {
   "cell_type": "markdown",
   "id": "f80a227b",
   "metadata": {},
   "source": [
    "**Appointment Booking**"
   ]
  },
  {
   "cell_type": "code",
   "execution_count": 584,
   "id": "21ec8f1b",
   "metadata": {},
   "outputs": [],
   "source": [
    "df_appointment_booking = df[df['Disposition']=='Appointment Booking']"
   ]
  },
  {
   "cell_type": "code",
   "execution_count": 624,
   "id": "5844819c",
   "metadata": {
    "scrolled": true
   },
   "outputs": [
    {
     "data": {
      "image/png": "[encoded data removed]",
      "text/plain": [
       "<Figure size 720x576 with 1 Axes>"
      ]
     },
     "metadata": {
      "needs_background": "light"
     },
     "output_type": "display_data"
    }
   ],
   "source": [
    "plt.figure(figsize=(10,8))\n",
    "sns.countplot(x='Department',data = df_appointment_booking, order = df_appointment_booking['Department'].value_counts().index )\n",
    "plt.title('Appointment booking')\n",
    "plt.xticks(rotation=90);"
   ]
  },
  {
   "cell_type": "markdown",
   "id": "875ac719",
   "metadata": {},
   "source": [
    "DOM department received most appointment booking"
   ]
  },
  {
   "cell_type": "markdown",
   "id": "0a56b23b",
   "metadata": {},
   "source": [
    "**Service availability**"
   ]
  },
  {
   "cell_type": "code",
   "execution_count": 588,
   "id": "fc23d9d9",
   "metadata": {},
   "outputs": [],
   "source": [
    "df_service = df[df['Disposition']=='Service Available']"
   ]
  },
  {
   "cell_type": "code",
   "execution_count": 627,
   "id": "980cf563",
   "metadata": {},
   "outputs": [
    {
     "data": {
      "image/png": "[encoded data removed]",
      "text/plain": [
       "<Figure size 720x576 with 1 Axes>"
      ]
     },
     "metadata": {
      "needs_background": "light"
     },
     "output_type": "display_data"
    }
   ],
   "source": [
    "plt.figure(figsize=(10,8))\n",
    "sns.countplot(x='Department',data = df_service, order = df_service['Department'].value_counts().index )\n",
    "plt.title('Service Availability')\n",
    "plt.xticks(rotation=90);"
   ]
  },
  {
   "cell_type": "markdown",
   "id": "20f0423a",
   "metadata": {},
   "source": [
    "ONLY OUTREACH and  procedures department had calls seeking for service availability with outreach being the most"
   ]
  },
  {
   "cell_type": "markdown",
   "id": "457975b2",
   "metadata": {},
   "source": [
    "**Employee Welfare**"
   ]
  },
  {
   "cell_type": "code",
   "execution_count": 593,
   "id": "7fe00c96",
   "metadata": {
    "scrolled": true
   },
   "outputs": [
    {
     "data": {
      "text/plain": [
       "HUMAN RESOURCE    14\n",
       "Name: Department, dtype: int64"
      ]
     },
     "execution_count": 593,
     "metadata": {},
     "output_type": "execute_result"
    }
   ],
   "source": [
    "df_employee = df[df['Disposition']=='Employee Welfare']\n",
    "df_employee['Department'].value_counts()"
   ]
  },
  {
   "cell_type": "markdown",
   "id": "c7c1a6a4",
   "metadata": {},
   "source": [
    "Human rosurce department deals with employee welfare"
   ]
  },
  {
   "cell_type": "markdown",
   "id": "9a5329bb",
   "metadata": {},
   "source": [
    "**Availability of Beds**"
   ]
  },
  {
   "cell_type": "code",
   "execution_count": 596,
   "id": "f75b56c1",
   "metadata": {
    "scrolled": false
   },
   "outputs": [
    {
     "data": {
      "text/plain": [
       "Non-Ward    20\n",
       "Name: Department, dtype: int64"
      ]
     },
     "execution_count": 596,
     "metadata": {},
     "output_type": "execute_result"
    }
   ],
   "source": [
    "df_bed = df[df['Disposition']=='Availability of beds']\n",
    "df_bed['Department'].value_counts()"
   ]
  },
  {
   "cell_type": "markdown",
   "id": "4621c320",
   "metadata": {},
   "source": [
    "Non-Ward department deals with bed allocation issues"
   ]
  },
  {
   "cell_type": "markdown",
   "id": "0e9ce8df",
   "metadata": {},
   "source": [
    "**Drug Availability**"
   ]
  },
  {
   "cell_type": "code",
   "execution_count": 598,
   "id": "1a74b567",
   "metadata": {},
   "outputs": [
    {
     "data": {
      "text/plain": [
       "Pharm    241\n",
       "Name: Department, dtype: int64"
      ]
     },
     "execution_count": 598,
     "metadata": {},
     "output_type": "execute_result"
    }
   ],
   "source": [
    "df_drugs = df[df['Disposition']=='availability of drugs']\n",
    "df_drugs['Department'].value_counts()"
   ]
  },
  {
   "cell_type": "markdown",
   "id": "b20fa1af",
   "metadata": {},
   "source": [
    "Pharm department deals with drug availability"
   ]
  },
  {
   "cell_type": "markdown",
   "id": "ed3df9ea",
   "metadata": {},
   "source": [
    "**Recruitment**"
   ]
  },
  {
   "cell_type": "code",
   "execution_count": 626,
   "id": "d9d8338f",
   "metadata": {},
   "outputs": [
    {
     "data": {
      "text/plain": [
       "HUMAN RESOURCE    32\n",
       "Name: Department, dtype: int64"
      ]
     },
     "execution_count": 626,
     "metadata": {},
     "output_type": "execute_result"
    }
   ],
   "source": [
    "df_recruitment = df[df['Disposition']=='Recruitment']\n",
    "df_recruitment['Department'].value_counts()"
   ]
  },
  {
   "cell_type": "markdown",
   "id": "0c6b5e50",
   "metadata": {},
   "source": [
    "Human rosurce department also deals with Recruitment. for job inquiries it will be wise for one to contact hr department"
   ]
  },
  {
   "cell_type": "markdown",
   "id": "bca4770b",
   "metadata": {},
   "source": [
    "# CONCLUSION"
   ]
  },
  {
   "cell_type": "markdown",
   "id": "63e6066a",
   "metadata": {},
   "source": [
    "We managed to create new columns from the date column and see calls made within the month of may in weekdays and also per day"
   ]
  },
  {
   "cell_type": "markdown",
   "id": "609ba2f0",
   "metadata": {},
   "source": [
    "We managed to answer some questions, the dataset being from health domain we had to dive deep and ask questions like: "
   ]
  },
  {
   "cell_type": "markdown",
   "id": "0547506d",
   "metadata": {},
   "source": [
    "Which departments gave no answer"
   ]
  },
  {
   "cell_type": "markdown",
   "id": "4425494e",
   "metadata": {},
   "source": [
    "Departments with unresolved tickets"
   ]
  },
  {
   "cell_type": "markdown",
   "id": "d0074209",
   "metadata": {},
   "source": [
    "which departments received feedbacks"
   ]
  },
  {
   "cell_type": "markdown",
   "id": "08e0b274",
   "metadata": {},
   "source": [
    "Which day of the week in which most calls were made"
   ]
  },
  {
   "cell_type": "markdown",
   "id": "f4ef1d9d",
   "metadata": {},
   "source": [
    "*****"
   ]
  }
 ],
 "metadata": {
  "kernelspec": {
   "display_name": "Python 3",
   "language": "python",
   "name": "python3"
  },
  "language_info": {
   "codemirror_mode": {
    "name": "ipython",
    "version": 3
   },
   "file_extension": ".py",
   "mimetype": "text/x-python",
   "name": "python",
   "nbconvert_exporter": "python",
   "pygments_lexer": "ipython3",
   "version": "3.8.8"
  }
 },
 "nbformat": 4,
 "nbformat_minor": 5
}
